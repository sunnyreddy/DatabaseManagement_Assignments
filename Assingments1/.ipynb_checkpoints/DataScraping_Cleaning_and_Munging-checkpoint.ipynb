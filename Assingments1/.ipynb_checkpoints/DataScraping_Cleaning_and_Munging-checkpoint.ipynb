{
 "cells": [
  {
   "cell_type": "markdown",
   "metadata": {},
   "source": [
    "# ABSTRACT\n",
    "\n",
    "We are working on a NBA and trying to build a database. So We will be extracting data from 3 diffrent data sources and then will be using them together to create a consistent database. We will perform several operations over the dataset extracted to make the data clean and error free and consistent. After that we will be developing a database from using the extracted source data and display it in the form of an Entity-Relationship Diagram.\n",
    "\n",
    "three sources:\n",
    "1. A web scraper\n",
    "2. A web API\n",
    "3. Raw text, csv, xml, or excel data\n",
    "\n",
    "# 1. Getting Data using a Web Scraper"
   ]
  },
  {
   "cell_type": "code",
   "execution_count": 1,
   "metadata": {},
   "outputs": [],
   "source": [
    "# importing necessary Libraries\n",
    "import matplotlib.pyplot as plt\n",
    "import numpy as np\n",
    "import pandas as pd\n",
    "import seaborn as sns\n",
    "import requests\n",
    "from bs4 import BeautifulSoup\n",
    "%matplotlib inline"
   ]
  },
  {
   "cell_type": "markdown",
   "metadata": {},
   "source": [
    "### This is python function to scrape Fox Sports NBA stats page for all players of any team selected using Beautiful soup"
   ]
  },
  {
   "cell_type": "code",
   "execution_count": 2,
   "metadata": {},
   "outputs": [],
   "source": [
    "# Function to scrape data from fox sports website\n",
    "def nba_player_stats_scraper(url):\n",
    "    r = requests.get(url)\n",
    "    soup = BeautifulSoup(r.text, 'lxml')\n",
    "    table = soup.find_all(\"table\",{\"class\": \"wisbb_standardTable\"})\n",
    "    table_head = soup.find_all(\"thead\",{\"class\": \"wisbb_tableHeader\"})\n",
    "    return pd.read_html(str(table))[0]"
   ]
  },
  {
   "cell_type": "markdown",
   "metadata": {},
   "source": [
    "## Function to scrape and get all teams url's"
   ]
  },
  {
   "cell_type": "code",
   "execution_count": 3,
   "metadata": {},
   "outputs": [],
   "source": [
    "# Function to scrape all team names + respective http links from website\n",
    "def get_teams(url):\n",
    "    r = requests.get(url)\n",
    "    soup = BeautifulSoup(r.text, 'lxml')\n",
    "    teams = soup.find_all(\"option\")\n",
    "    team_list = []\n",
    "    i = 0\n",
    "    for item in soup.find_all('option'):\n",
    "        if i > 6:\n",
    "            team_list.append(''.join(str(item['value'])))\n",
    "        i += 1\n",
    "    return team_list"
   ]
  },
  {
   "cell_type": "code",
   "execution_count": 4,
   "metadata": {},
   "outputs": [
    {
     "data": {
      "text/plain": [
       "['/nba/philadelphia-76ers-team-stats?season=2019&category=SCORING&time=0',\n",
       " '/nba/milwaukee-bucks-team-stats?season=2019&category=SCORING&time=0',\n",
       " '/nba/chicago-bulls-team-stats?season=2019&category=SCORING&time=0',\n",
       " '/nba/cleveland-cavaliers-team-stats?season=2019&category=SCORING&time=0',\n",
       " '/nba/boston-celtics-team-stats?season=2019&category=SCORING&time=0',\n",
       " '/nba/los-angeles-clippers-team-stats?season=2019&category=SCORING&time=0',\n",
       " '/nba/memphis-grizzlies-team-stats?season=2019&category=SCORING&time=0',\n",
       " '/nba/atlanta-hawks-team-stats?season=2019&category=SCORING&time=0',\n",
       " '/nba/miami-heat-team-stats?season=2019&category=SCORING&time=0',\n",
       " '/nba/charlotte-hornets-team-stats?season=2019&category=SCORING&time=0',\n",
       " '/nba/utah-jazz-team-stats?season=2019&category=SCORING&time=0',\n",
       " '/nba/sacramento-kings-team-stats?season=2019&category=SCORING&time=0',\n",
       " '/nba/new-york-knicks-team-stats?season=2019&category=SCORING&time=0',\n",
       " '/nba/los-angeles-lakers-team-stats?season=2019&category=SCORING&time=0',\n",
       " '/nba/orlando-magic-team-stats?season=2019&category=SCORING&time=0',\n",
       " '/nba/dallas-mavericks-team-stats?season=2019&category=SCORING&time=0',\n",
       " '/nba/brooklyn-nets-team-stats?season=2019&category=SCORING&time=0',\n",
       " '/nba/denver-nuggets-team-stats?season=2019&category=SCORING&time=0',\n",
       " '/nba/indiana-pacers-team-stats?season=2019&category=SCORING&time=0',\n",
       " '/nba/new-orleans-pelicans-team-stats?season=2019&category=SCORING&time=0',\n",
       " '/nba/detroit-pistons-team-stats?season=2019&category=SCORING&time=0',\n",
       " '/nba/toronto-raptors-team-stats?season=2019&category=SCORING&time=0',\n",
       " '/nba/houston-rockets-team-stats?season=2019&category=SCORING&time=0',\n",
       " '/nba/san-antonio-spurs-team-stats?season=2019&category=SCORING&time=0',\n",
       " '/nba/phoenix-suns-team-stats?season=2019&category=SCORING&time=0',\n",
       " '/nba/oklahoma-city-thunder-team-stats?season=2019&category=SCORING&time=0',\n",
       " '/nba/minnesota-timberwolves-team-stats?season=2019&category=SCORING&time=0',\n",
       " '/nba/portland-trail-blazers-team-stats?season=2019&category=SCORING&time=0',\n",
       " '/nba/golden-state-warriors-team-stats?season=2019&category=SCORING&time=0',\n",
       " '/nba/washington-wizards-team-stats?season=2019&category=SCORING&time=0']"
      ]
     },
     "execution_count": 4,
     "metadata": {},
     "output_type": "execute_result"
    }
   ],
   "source": [
    "team_list = get_teams(\"https://www.foxsports.com/nba/boston-celtics-team-stats\")\n",
    "team_list"
   ]
  },
  {
   "cell_type": "markdown",
   "metadata": {},
   "source": [
    "## we can obtain celtics data using our above scrapping functions"
   ]
  },
  {
   "cell_type": "code",
   "execution_count": 5,
   "metadata": {},
   "outputs": [
    {
     "data": {
      "text/html": [
       "<div>\n",
       "<style scoped>\n",
       "    .dataframe tbody tr th:only-of-type {\n",
       "        vertical-align: middle;\n",
       "    }\n",
       "\n",
       "    .dataframe tbody tr th {\n",
       "        vertical-align: top;\n",
       "    }\n",
       "\n",
       "    .dataframe thead th {\n",
       "        text-align: right;\n",
       "    }\n",
       "</style>\n",
       "<table border=\"1\" class=\"dataframe\">\n",
       "  <thead>\n",
       "    <tr style=\"text-align: right;\">\n",
       "      <th></th>\n",
       "      <th>SCORING</th>\n",
       "      <th>GP</th>\n",
       "      <th>GS</th>\n",
       "      <th>MPG</th>\n",
       "      <th>PPG</th>\n",
       "      <th>PTS/48</th>\n",
       "      <th>PTS</th>\n",
       "      <th>FGM/G</th>\n",
       "      <th>FGA/G</th>\n",
       "      <th>FG%</th>\n",
       "      <th>3FGM/G</th>\n",
       "      <th>3FGA/G</th>\n",
       "      <th>3FG%</th>\n",
       "      <th>FTM/G</th>\n",
       "      <th>FTA/G</th>\n",
       "      <th>FT%</th>\n",
       "      <th>HIGH</th>\n",
       "      <th>PPS</th>\n",
       "    </tr>\n",
       "  </thead>\n",
       "  <tbody>\n",
       "    <tr>\n",
       "      <th>0</th>\n",
       "      <td>1 Walker, Kemba Walker, K. PG</td>\n",
       "      <td>42</td>\n",
       "      <td>42</td>\n",
       "      <td>32.1</td>\n",
       "      <td>22.0</td>\n",
       "      <td>33.0</td>\n",
       "      <td>926</td>\n",
       "      <td>7.4</td>\n",
       "      <td>16.9</td>\n",
       "      <td>0.439</td>\n",
       "      <td>3.4</td>\n",
       "      <td>8.8</td>\n",
       "      <td>.388</td>\n",
       "      <td>3.8</td>\n",
       "      <td>4.4</td>\n",
       "      <td>0.865</td>\n",
       "      <td>44</td>\n",
       "      <td>1.31</td>\n",
       "    </tr>\n",
       "    <tr>\n",
       "      <th>1</th>\n",
       "      <td>2 Tatum, Jayson Tatum, J. SF</td>\n",
       "      <td>44</td>\n",
       "      <td>44</td>\n",
       "      <td>33.6</td>\n",
       "      <td>21.5</td>\n",
       "      <td>30.8</td>\n",
       "      <td>948</td>\n",
       "      <td>7.9</td>\n",
       "      <td>18.1</td>\n",
       "      <td>0.435</td>\n",
       "      <td>2.4</td>\n",
       "      <td>6.5</td>\n",
       "      <td>.366</td>\n",
       "      <td>3.4</td>\n",
       "      <td>4.1</td>\n",
       "      <td>0.839</td>\n",
       "      <td>41</td>\n",
       "      <td>1.19</td>\n",
       "    </tr>\n",
       "    <tr>\n",
       "      <th>2</th>\n",
       "      <td>3 Brown, Jaylen Brown, J. SG</td>\n",
       "      <td>40</td>\n",
       "      <td>40</td>\n",
       "      <td>33.6</td>\n",
       "      <td>20.4</td>\n",
       "      <td>29.1</td>\n",
       "      <td>814</td>\n",
       "      <td>7.4</td>\n",
       "      <td>15.0</td>\n",
       "      <td>0.497</td>\n",
       "      <td>2.1</td>\n",
       "      <td>5.5</td>\n",
       "      <td>.379</td>\n",
       "      <td>3.4</td>\n",
       "      <td>4.6</td>\n",
       "      <td>0.753</td>\n",
       "      <td>34</td>\n",
       "      <td>1.36</td>\n",
       "    </tr>\n",
       "    <tr>\n",
       "      <th>3</th>\n",
       "      <td>4 Hayward, Gordon Hayward, G. SF</td>\n",
       "      <td>32</td>\n",
       "      <td>32</td>\n",
       "      <td>32.6</td>\n",
       "      <td>16.8</td>\n",
       "      <td>24.8</td>\n",
       "      <td>538</td>\n",
       "      <td>6.6</td>\n",
       "      <td>13.0</td>\n",
       "      <td>0.506</td>\n",
       "      <td>1.5</td>\n",
       "      <td>4.0</td>\n",
       "      <td>.372</td>\n",
       "      <td>2.1</td>\n",
       "      <td>2.4</td>\n",
       "      <td>0.883</td>\n",
       "      <td>39</td>\n",
       "      <td>1.29</td>\n",
       "    </tr>\n",
       "    <tr>\n",
       "      <th>4</th>\n",
       "      <td>5 Smart, Marcus Smart, M. PG</td>\n",
       "      <td>39</td>\n",
       "      <td>27</td>\n",
       "      <td>31.5</td>\n",
       "      <td>12.4</td>\n",
       "      <td>18.9</td>\n",
       "      <td>484</td>\n",
       "      <td>4.2</td>\n",
       "      <td>11.0</td>\n",
       "      <td>0.379</td>\n",
       "      <td>2.3</td>\n",
       "      <td>6.5</td>\n",
       "      <td>.352</td>\n",
       "      <td>1.8</td>\n",
       "      <td>2.1</td>\n",
       "      <td>0.831</td>\n",
       "      <td>37</td>\n",
       "      <td>1.13</td>\n",
       "    </tr>\n",
       "  </tbody>\n",
       "</table>\n",
       "</div>"
      ],
      "text/plain": [
       "                            SCORING  GP  GS   MPG   PPG  PTS/48  PTS  FGM/G  \\\n",
       "0     1 Walker, Kemba Walker, K. PG  42  42  32.1  22.0    33.0  926    7.4   \n",
       "1      2 Tatum, Jayson Tatum, J. SF  44  44  33.6  21.5    30.8  948    7.9   \n",
       "2      3 Brown, Jaylen Brown, J. SG  40  40  33.6  20.4    29.1  814    7.4   \n",
       "3  4 Hayward, Gordon Hayward, G. SF  32  32  32.6  16.8    24.8  538    6.6   \n",
       "4      5 Smart, Marcus Smart, M. PG  39  27  31.5  12.4    18.9  484    4.2   \n",
       "\n",
       "   FGA/G    FG%  3FGM/G  3FGA/G  3FG%  FTM/G  FTA/G    FT%  HIGH   PPS  \n",
       "0   16.9  0.439     3.4     8.8  .388    3.8    4.4  0.865    44  1.31  \n",
       "1   18.1  0.435     2.4     6.5  .366    3.4    4.1  0.839    41  1.19  \n",
       "2   15.0  0.497     2.1     5.5  .379    3.4    4.6  0.753    34  1.36  \n",
       "3   13.0  0.506     1.5     4.0  .372    2.1    2.4  0.883    39  1.29  \n",
       "4   11.0  0.379     2.3     6.5  .352    1.8    2.1  0.831    37  1.13  "
      ]
     },
     "execution_count": 5,
     "metadata": {},
     "output_type": "execute_result"
    }
   ],
   "source": [
    "celtics_url = \"https://www.foxsports.com/nba/boston-celtics-team-stats\"\n",
    "nba_player_stats_scraper(celtics_url).head()"
   ]
  },
  {
   "cell_type": "code",
   "execution_count": 6,
   "metadata": {},
   "outputs": [
    {
     "data": {
      "text/html": [
       "<div>\n",
       "<style scoped>\n",
       "    .dataframe tbody tr th:only-of-type {\n",
       "        vertical-align: middle;\n",
       "    }\n",
       "\n",
       "    .dataframe tbody tr th {\n",
       "        vertical-align: top;\n",
       "    }\n",
       "\n",
       "    .dataframe thead th {\n",
       "        text-align: right;\n",
       "    }\n",
       "</style>\n",
       "<table border=\"1\" class=\"dataframe\">\n",
       "  <thead>\n",
       "    <tr style=\"text-align: right;\">\n",
       "      <th></th>\n",
       "      <th>SCORING</th>\n",
       "      <th>GP</th>\n",
       "      <th>GS</th>\n",
       "      <th>MPG</th>\n",
       "      <th>PPG</th>\n",
       "      <th>PTS/48</th>\n",
       "      <th>PTS</th>\n",
       "      <th>FGM/G</th>\n",
       "      <th>FGA/G</th>\n",
       "      <th>FG%</th>\n",
       "      <th>3FGM/G</th>\n",
       "      <th>3FGA/G</th>\n",
       "      <th>3FG%</th>\n",
       "      <th>FTM/G</th>\n",
       "      <th>FTA/G</th>\n",
       "      <th>FT%</th>\n",
       "      <th>HIGH</th>\n",
       "      <th>PPS</th>\n",
       "    </tr>\n",
       "  </thead>\n",
       "  <tbody>\n",
       "    <tr>\n",
       "      <th>0</th>\n",
       "      <td>1 Morris, Marcus Morris, M. PF</td>\n",
       "      <td>42</td>\n",
       "      <td>42</td>\n",
       "      <td>32.2</td>\n",
       "      <td>19.4</td>\n",
       "      <td>29.0</td>\n",
       "      <td>815</td>\n",
       "      <td>6.5</td>\n",
       "      <td>14.8</td>\n",
       "      <td>0.440</td>\n",
       "      <td>2.7</td>\n",
       "      <td>6.2</td>\n",
       "      <td>.438</td>\n",
       "      <td>3.7</td>\n",
       "      <td>4.5</td>\n",
       "      <td>0.816</td>\n",
       "      <td>38</td>\n",
       "      <td>1.31</td>\n",
       "    </tr>\n",
       "    <tr>\n",
       "      <th>1</th>\n",
       "      <td>2 Randle, Julius Randle, J. PF</td>\n",
       "      <td>48</td>\n",
       "      <td>48</td>\n",
       "      <td>32.4</td>\n",
       "      <td>18.9</td>\n",
       "      <td>28.0</td>\n",
       "      <td>908</td>\n",
       "      <td>7.0</td>\n",
       "      <td>15.7</td>\n",
       "      <td>0.447</td>\n",
       "      <td>1.1</td>\n",
       "      <td>4.1</td>\n",
       "      <td>.269</td>\n",
       "      <td>3.8</td>\n",
       "      <td>5.4</td>\n",
       "      <td>0.707</td>\n",
       "      <td>35</td>\n",
       "      <td>1.21</td>\n",
       "    </tr>\n",
       "    <tr>\n",
       "      <th>2</th>\n",
       "      <td>3 Barrett, RJ Barrett, R. SF</td>\n",
       "      <td>41</td>\n",
       "      <td>41</td>\n",
       "      <td>31.2</td>\n",
       "      <td>14.1</td>\n",
       "      <td>21.7</td>\n",
       "      <td>578</td>\n",
       "      <td>5.1</td>\n",
       "      <td>13.0</td>\n",
       "      <td>0.393</td>\n",
       "      <td>1.1</td>\n",
       "      <td>3.5</td>\n",
       "      <td>.329</td>\n",
       "      <td>2.7</td>\n",
       "      <td>4.5</td>\n",
       "      <td>0.603</td>\n",
       "      <td>27</td>\n",
       "      <td>1.08</td>\n",
       "    </tr>\n",
       "    <tr>\n",
       "      <th>3</th>\n",
       "      <td>4 Bullock, Reggie Bullock, R. SG</td>\n",
       "      <td>16</td>\n",
       "      <td>13</td>\n",
       "      <td>25.1</td>\n",
       "      <td>9.6</td>\n",
       "      <td>18.3</td>\n",
       "      <td>153</td>\n",
       "      <td>3.8</td>\n",
       "      <td>9.1</td>\n",
       "      <td>0.411</td>\n",
       "      <td>1.5</td>\n",
       "      <td>4.6</td>\n",
       "      <td>.329</td>\n",
       "      <td>0.6</td>\n",
       "      <td>0.7</td>\n",
       "      <td>0.818</td>\n",
       "      <td>16</td>\n",
       "      <td>1.05</td>\n",
       "    </tr>\n",
       "    <tr>\n",
       "      <th>4</th>\n",
       "      <td>5 Portis, Bobby Portis, B. PF</td>\n",
       "      <td>50</td>\n",
       "      <td>4</td>\n",
       "      <td>20.9</td>\n",
       "      <td>9.4</td>\n",
       "      <td>21.7</td>\n",
       "      <td>471</td>\n",
       "      <td>3.7</td>\n",
       "      <td>8.6</td>\n",
       "      <td>0.433</td>\n",
       "      <td>1.0</td>\n",
       "      <td>2.8</td>\n",
       "      <td>.352</td>\n",
       "      <td>1.0</td>\n",
       "      <td>1.3</td>\n",
       "      <td>0.731</td>\n",
       "      <td>30</td>\n",
       "      <td>1.10</td>\n",
       "    </tr>\n",
       "  </tbody>\n",
       "</table>\n",
       "</div>"
      ],
      "text/plain": [
       "                            SCORING  GP  GS   MPG   PPG  PTS/48  PTS  FGM/G  \\\n",
       "0    1 Morris, Marcus Morris, M. PF  42  42  32.2  19.4    29.0  815    6.5   \n",
       "1    2 Randle, Julius Randle, J. PF  48  48  32.4  18.9    28.0  908    7.0   \n",
       "2      3 Barrett, RJ Barrett, R. SF  41  41  31.2  14.1    21.7  578    5.1   \n",
       "3  4 Bullock, Reggie Bullock, R. SG  16  13  25.1   9.6    18.3  153    3.8   \n",
       "4     5 Portis, Bobby Portis, B. PF  50   4  20.9   9.4    21.7  471    3.7   \n",
       "\n",
       "   FGA/G    FG%  3FGM/G  3FGA/G  3FG%  FTM/G  FTA/G    FT%  HIGH   PPS  \n",
       "0   14.8  0.440     2.7     6.2  .438    3.7    4.5  0.816    38  1.31  \n",
       "1   15.7  0.447     1.1     4.1  .269    3.8    5.4  0.707    35  1.21  \n",
       "2   13.0  0.393     1.1     3.5  .329    2.7    4.5  0.603    27  1.08  \n",
       "3    9.1  0.411     1.5     4.6  .329    0.6    0.7  0.818    16  1.05  \n",
       "4    8.6  0.433     1.0     2.8  .352    1.0    1.3  0.731    30  1.10  "
      ]
     },
     "execution_count": 6,
     "metadata": {},
     "output_type": "execute_result"
    }
   ],
   "source": [
    "knicks_url = \"https://www.foxsports.com/nba/new-york-knicks-team-stats\"\n",
    "nba_player_stats_scraper(knicks_url).head()"
   ]
  },
  {
   "cell_type": "markdown",
   "metadata": {},
   "source": [
    "## Here repetition is there so we wrote a single function to get all data at once"
   ]
  },
  {
   "cell_type": "markdown",
   "metadata": {},
   "source": [
    "# Function to get all teams data at once"
   ]
  },
  {
   "cell_type": "code",
   "execution_count": 7,
   "metadata": {},
   "outputs": [
    {
     "data": {
      "text/html": [
       "<div>\n",
       "<style scoped>\n",
       "    .dataframe tbody tr th:only-of-type {\n",
       "        vertical-align: middle;\n",
       "    }\n",
       "\n",
       "    .dataframe tbody tr th {\n",
       "        vertical-align: top;\n",
       "    }\n",
       "\n",
       "    .dataframe thead th {\n",
       "        text-align: right;\n",
       "    }\n",
       "</style>\n",
       "<table border=\"1\" class=\"dataframe\">\n",
       "  <thead>\n",
       "    <tr style=\"text-align: right;\">\n",
       "      <th></th>\n",
       "      <th>SCORING</th>\n",
       "      <th>GP</th>\n",
       "      <th>GS</th>\n",
       "      <th>MPG</th>\n",
       "      <th>PPG</th>\n",
       "      <th>PTS/48</th>\n",
       "      <th>PTS</th>\n",
       "      <th>FGM/G</th>\n",
       "      <th>FGA/G</th>\n",
       "      <th>FG%</th>\n",
       "      <th>3FGM/G</th>\n",
       "      <th>3FGA/G</th>\n",
       "      <th>3FG%</th>\n",
       "      <th>FTM/G</th>\n",
       "      <th>FTA/G</th>\n",
       "      <th>FT%</th>\n",
       "      <th>HIGH</th>\n",
       "      <th>PPS</th>\n",
       "    </tr>\n",
       "  </thead>\n",
       "  <tbody>\n",
       "    <tr>\n",
       "      <th>0</th>\n",
       "      <td>1 Embiid, Joel Embiid, J. C</td>\n",
       "      <td>34</td>\n",
       "      <td>34</td>\n",
       "      <td>30.8</td>\n",
       "      <td>23</td>\n",
       "      <td>35.8</td>\n",
       "      <td>781</td>\n",
       "      <td>7.5</td>\n",
       "      <td>15.9</td>\n",
       "      <td>0.472</td>\n",
       "      <td>1.2</td>\n",
       "      <td>3.9</td>\n",
       "      <td>.321</td>\n",
       "      <td>6.7</td>\n",
       "      <td>8.1</td>\n",
       "      <td>0.822</td>\n",
       "      <td>38</td>\n",
       "      <td>1.44</td>\n",
       "    </tr>\n",
       "    <tr>\n",
       "      <th>1</th>\n",
       "      <td>2 Harris, Tobias Harris, T. SF</td>\n",
       "      <td>50</td>\n",
       "      <td>50</td>\n",
       "      <td>34.4</td>\n",
       "      <td>19.3</td>\n",
       "      <td>26.9</td>\n",
       "      <td>963</td>\n",
       "      <td>7.5</td>\n",
       "      <td>15.7</td>\n",
       "      <td>0.476</td>\n",
       "      <td>1.7</td>\n",
       "      <td>4.9</td>\n",
       "      <td>.354</td>\n",
       "      <td>2.6</td>\n",
       "      <td>3.2</td>\n",
       "      <td>0.805</td>\n",
       "      <td>35</td>\n",
       "      <td>1.23</td>\n",
       "    </tr>\n",
       "    <tr>\n",
       "      <th>2</th>\n",
       "      <td>3 Simmons, Ben Simmons, B. PG</td>\n",
       "      <td>48</td>\n",
       "      <td>48</td>\n",
       "      <td>36.2</td>\n",
       "      <td>16.7</td>\n",
       "      <td>22.2</td>\n",
       "      <td>803</td>\n",
       "      <td>6.7</td>\n",
       "      <td>11.5</td>\n",
       "      <td>0.584</td>\n",
       "      <td>0</td>\n",
       "      <td>0.1</td>\n",
       "      <td>.400</td>\n",
       "      <td>3.2</td>\n",
       "      <td>5.2</td>\n",
       "      <td>0.618</td>\n",
       "      <td>34</td>\n",
       "      <td>1.45</td>\n",
       "    </tr>\n",
       "    <tr>\n",
       "      <th>3</th>\n",
       "      <td>4 Richardson, Josh Richardson, J. SG</td>\n",
       "      <td>38</td>\n",
       "      <td>38</td>\n",
       "      <td>31.5</td>\n",
       "      <td>15</td>\n",
       "      <td>22.8</td>\n",
       "      <td>569</td>\n",
       "      <td>5.5</td>\n",
       "      <td>12.6</td>\n",
       "      <td>0.436</td>\n",
       "      <td>1.6</td>\n",
       "      <td>4.8</td>\n",
       "      <td>.333</td>\n",
       "      <td>2.4</td>\n",
       "      <td>2.9</td>\n",
       "      <td>0.818</td>\n",
       "      <td>32</td>\n",
       "      <td>1.19</td>\n",
       "    </tr>\n",
       "    <tr>\n",
       "      <th>4</th>\n",
       "      <td>5 Horford, Al Horford, A. C</td>\n",
       "      <td>45</td>\n",
       "      <td>45</td>\n",
       "      <td>31.1</td>\n",
       "      <td>12.5</td>\n",
       "      <td>19.3</td>\n",
       "      <td>561</td>\n",
       "      <td>5.1</td>\n",
       "      <td>11.4</td>\n",
       "      <td>0.449</td>\n",
       "      <td>1.4</td>\n",
       "      <td>4.4</td>\n",
       "      <td>.316</td>\n",
       "      <td>0.9</td>\n",
       "      <td>1.2</td>\n",
       "      <td>0.722</td>\n",
       "      <td>32</td>\n",
       "      <td>1.1</td>\n",
       "    </tr>\n",
       "  </tbody>\n",
       "</table>\n",
       "</div>"
      ],
      "text/plain": [
       "                                SCORING  GP  GS   MPG   PPG PTS/48  PTS FGM/G  \\\n",
       "0           1 Embiid, Joel Embiid, J. C  34  34  30.8    23   35.8  781   7.5   \n",
       "1        2 Harris, Tobias Harris, T. SF  50  50  34.4  19.3   26.9  963   7.5   \n",
       "2         3 Simmons, Ben Simmons, B. PG  48  48  36.2  16.7   22.2  803   6.7   \n",
       "3  4 Richardson, Josh Richardson, J. SG  38  38  31.5    15   22.8  569   5.5   \n",
       "4           5 Horford, Al Horford, A. C  45  45  31.1  12.5   19.3  561   5.1   \n",
       "\n",
       "  FGA/G    FG% 3FGM/G 3FGA/G  3FG% FTM/G FTA/G    FT%  HIGH   PPS  \n",
       "0  15.9  0.472    1.2    3.9  .321   6.7   8.1  0.822    38  1.44  \n",
       "1  15.7  0.476    1.7    4.9  .354   2.6   3.2  0.805    35  1.23  \n",
       "2  11.5  0.584      0    0.1  .400   3.2   5.2  0.618    34  1.45  \n",
       "3  12.6  0.436    1.6    4.8  .333   2.4   2.9  0.818    32  1.19  \n",
       "4  11.4  0.449    1.4    4.4  .316   0.9   1.2  0.722    32   1.1  "
      ]
     },
     "execution_count": 7,
     "metadata": {},
     "output_type": "execute_result"
    }
   ],
   "source": [
    "# function to scrape all teams players stats at once\n",
    "\n",
    "def get_all_teams_data_scrapper(team_list):\n",
    "    i = 0\n",
    "    base_url = \"https://www.foxsports.com\"\n",
    "    for team_url in team_list:\n",
    "        url = base_url + team_url\n",
    "        if i == 0:\n",
    "            df_all_data_from_scraping = nba_player_stats_scraper(url)\n",
    "            i = 1\n",
    "        else:\n",
    "            df_all_data_from_scraping = df_all_data_from_scraping.append(nba_player_stats_scraper(url))\n",
    "    \n",
    "    return df_all_data_from_scraping\n",
    "        \n",
    "df_all_data_from_scraping = get_all_teams_data_scrapper(team_list)\n",
    "df_all_data_from_scraping.head()"
   ]
  },
  {
   "cell_type": "code",
   "execution_count": 8,
   "metadata": {},
   "outputs": [
    {
     "data": {
      "text/plain": [
       "513"
      ]
     },
     "execution_count": 8,
     "metadata": {},
     "output_type": "execute_result"
    }
   ],
   "source": [
    "len(df_all_data_from_scraping)"
   ]
  },
  {
   "cell_type": "markdown",
   "metadata": {},
   "source": [
    "## We have scraped all the neccessary data from a website and stored it in dataFrame: df_all_data_from_scraping"
   ]
  },
  {
   "cell_type": "markdown",
   "metadata": {},
   "source": [
    "# Now that we got stats of Players Now we will get Players data"
   ]
  },
  {
   "cell_type": "code",
   "execution_count": 9,
   "metadata": {},
   "outputs": [
    {
     "data": {
      "text/html": [
       "<div>\n",
       "<style scoped>\n",
       "    .dataframe tbody tr th:only-of-type {\n",
       "        vertical-align: middle;\n",
       "    }\n",
       "\n",
       "    .dataframe tbody tr th {\n",
       "        vertical-align: top;\n",
       "    }\n",
       "\n",
       "    .dataframe thead th {\n",
       "        text-align: right;\n",
       "    }\n",
       "</style>\n",
       "<table border=\"1\" class=\"dataframe\">\n",
       "  <thead>\n",
       "    <tr style=\"text-align: right;\">\n",
       "      <th></th>\n",
       "      <th>Player</th>\n",
       "      <th>Team</th>\n",
       "      <th>Position</th>\n",
       "      <th>Height</th>\n",
       "      <th>Weight</th>\n",
       "      <th>Birthdate</th>\n",
       "    </tr>\n",
       "  </thead>\n",
       "  <tbody>\n",
       "    <tr>\n",
       "      <th>0</th>\n",
       "      <td>Adams, Jalen Adams, Jalen</td>\n",
       "      <td>NOP</td>\n",
       "      <td>PG</td>\n",
       "      <td>6'3\"</td>\n",
       "      <td>195</td>\n",
       "      <td>12/11/1995</td>\n",
       "    </tr>\n",
       "    <tr>\n",
       "      <th>1</th>\n",
       "      <td>Adams, Jaylen Adams, Jaylen</td>\n",
       "      <td>MIL</td>\n",
       "      <td>PG</td>\n",
       "      <td>6'2\"</td>\n",
       "      <td>190</td>\n",
       "      <td>5/04/1996</td>\n",
       "    </tr>\n",
       "    <tr>\n",
       "      <th>2</th>\n",
       "      <td>Adams, Steven Adams, Steven</td>\n",
       "      <td>OKC</td>\n",
       "      <td>C</td>\n",
       "      <td>6'11\"</td>\n",
       "      <td>265</td>\n",
       "      <td>7/20/1993</td>\n",
       "    </tr>\n",
       "    <tr>\n",
       "      <th>3</th>\n",
       "      <td>Adebayo, Bam Adebayo, Bam</td>\n",
       "      <td>MIA</td>\n",
       "      <td>C</td>\n",
       "      <td>6'9\"</td>\n",
       "      <td>255</td>\n",
       "      <td>7/18/1997</td>\n",
       "    </tr>\n",
       "    <tr>\n",
       "      <th>4</th>\n",
       "      <td>Adel, Deng Adel, Deng</td>\n",
       "      <td>BKN</td>\n",
       "      <td>SF</td>\n",
       "      <td>6'7\"</td>\n",
       "      <td>200</td>\n",
       "      <td>2/01/1997</td>\n",
       "    </tr>\n",
       "  </tbody>\n",
       "</table>\n",
       "</div>"
      ],
      "text/plain": [
       "                        Player Team Position Height Weight   Birthdate\n",
       "0    Adams, Jalen Adams, Jalen  NOP       PG   6'3\"    195  12/11/1995\n",
       "1  Adams, Jaylen Adams, Jaylen  MIL       PG   6'2\"    190   5/04/1996\n",
       "2  Adams, Steven Adams, Steven  OKC        C  6'11\"    265   7/20/1993\n",
       "3    Adebayo, Bam Adebayo, Bam  MIA        C   6'9\"    255   7/18/1997\n",
       "4        Adel, Deng Adel, Deng  BKN       SF   6'7\"    200   2/01/1997"
      ]
     },
     "execution_count": 9,
     "metadata": {},
     "output_type": "execute_result"
    }
   ],
   "source": [
    "url2 = \"https://www.foxsports.com/nba/players?teamId=0&season=2019&position=0&page=1&country=0&grouping=0&weightclass=0\"\n",
    "nba_player_stats_scraper(url2).head()"
   ]
  },
  {
   "cell_type": "markdown",
   "metadata": {},
   "source": [
    "# We have so many pages of data so we pass those pages in url to get all data"
   ]
  },
  {
   "cell_type": "code",
   "execution_count": 10,
   "metadata": {},
   "outputs": [
    {
     "data": {
      "text/html": [
       "<div>\n",
       "<style scoped>\n",
       "    .dataframe tbody tr th:only-of-type {\n",
       "        vertical-align: middle;\n",
       "    }\n",
       "\n",
       "    .dataframe tbody tr th {\n",
       "        vertical-align: top;\n",
       "    }\n",
       "\n",
       "    .dataframe thead th {\n",
       "        text-align: right;\n",
       "    }\n",
       "</style>\n",
       "<table border=\"1\" class=\"dataframe\">\n",
       "  <thead>\n",
       "    <tr style=\"text-align: right;\">\n",
       "      <th></th>\n",
       "      <th>Player</th>\n",
       "      <th>Team</th>\n",
       "      <th>Position</th>\n",
       "      <th>Height</th>\n",
       "      <th>Weight</th>\n",
       "      <th>Birthdate</th>\n",
       "    </tr>\n",
       "  </thead>\n",
       "  <tbody>\n",
       "    <tr>\n",
       "      <th>0</th>\n",
       "      <td>Adams, Jalen Adams, Jalen</td>\n",
       "      <td>NOP</td>\n",
       "      <td>PG</td>\n",
       "      <td>6'3\"</td>\n",
       "      <td>195</td>\n",
       "      <td>12/11/1995</td>\n",
       "    </tr>\n",
       "    <tr>\n",
       "      <th>1</th>\n",
       "      <td>Adams, Jaylen Adams, Jaylen</td>\n",
       "      <td>MIL</td>\n",
       "      <td>PG</td>\n",
       "      <td>6'2\"</td>\n",
       "      <td>190</td>\n",
       "      <td>5/04/1996</td>\n",
       "    </tr>\n",
       "    <tr>\n",
       "      <th>2</th>\n",
       "      <td>Adams, Steven Adams, Steven</td>\n",
       "      <td>OKC</td>\n",
       "      <td>C</td>\n",
       "      <td>6'11\"</td>\n",
       "      <td>265</td>\n",
       "      <td>7/20/1993</td>\n",
       "    </tr>\n",
       "    <tr>\n",
       "      <th>3</th>\n",
       "      <td>Adebayo, Bam Adebayo, Bam</td>\n",
       "      <td>MIA</td>\n",
       "      <td>C</td>\n",
       "      <td>6'9\"</td>\n",
       "      <td>255</td>\n",
       "      <td>7/18/1997</td>\n",
       "    </tr>\n",
       "    <tr>\n",
       "      <th>4</th>\n",
       "      <td>Adel, Deng Adel, Deng</td>\n",
       "      <td>BKN</td>\n",
       "      <td>SF</td>\n",
       "      <td>6'7\"</td>\n",
       "      <td>200</td>\n",
       "      <td>2/01/1997</td>\n",
       "    </tr>\n",
       "  </tbody>\n",
       "</table>\n",
       "</div>"
      ],
      "text/plain": [
       "                        Player Team Position Height Weight   Birthdate\n",
       "0    Adams, Jalen Adams, Jalen  NOP       PG   6'3\"    195  12/11/1995\n",
       "1  Adams, Jaylen Adams, Jaylen  MIL       PG   6'2\"    190   5/04/1996\n",
       "2  Adams, Steven Adams, Steven  OKC        C  6'11\"    265   7/20/1993\n",
       "3    Adebayo, Bam Adebayo, Bam  MIA        C   6'9\"    255   7/18/1997\n",
       "4        Adel, Deng Adel, Deng  BKN       SF   6'7\"    200   2/01/1997"
      ]
     },
     "execution_count": 10,
     "metadata": {},
     "output_type": "execute_result"
    }
   ],
   "source": [
    "pages = list(i for i in range(1,28))\n",
    "\n",
    "df_all_Playerdata_from_scraping = None\n",
    "\n",
    "def get_all_players_data_scrapper(pages):\n",
    "    i = 0\n",
    "    for page in pages:\n",
    "        url = \"https://www.foxsports.com/nba/players?teamId=0&season=2019&position=0&page=\"+ str(page) + \"&country=0&grouping=0&weightclass=0\"        \n",
    "        if i == 0:\n",
    "            df_all_Playerdata_from_scraping = nba_player_stats_scraper(url)\n",
    "            i = 1\n",
    "        else:\n",
    "            df_all_Playerdata_from_scraping = df_all_Playerdata_from_scraping.append(nba_player_stats_scraper(url))\n",
    "    \n",
    "    return df_all_Playerdata_from_scraping\n",
    "\n",
    "df_all_Playerdata_from_scraping = get_all_players_data_scrapper(pages)\n",
    "df_all_Playerdata_from_scraping.head()"
   ]
  },
  {
   "cell_type": "code",
   "execution_count": 11,
   "metadata": {},
   "outputs": [
    {
     "data": {
      "text/plain": [
       "656"
      ]
     },
     "execution_count": 11,
     "metadata": {},
     "output_type": "execute_result"
    }
   ],
   "source": [
    "## validating if our data is full\n",
    "len(df_all_Playerdata_from_scraping)"
   ]
  },
  {
   "cell_type": "markdown",
   "metadata": {},
   "source": [
    "# 2. Collecting Data using an API\n",
    "### Free  api from sportsdata.io about basket ball players"
   ]
  },
  {
   "cell_type": "code",
   "execution_count": 12,
   "metadata": {},
   "outputs": [
    {
     "data": {
      "text/html": [
       "<div>\n",
       "<style scoped>\n",
       "    .dataframe tbody tr th:only-of-type {\n",
       "        vertical-align: middle;\n",
       "    }\n",
       "\n",
       "    .dataframe tbody tr th {\n",
       "        vertical-align: top;\n",
       "    }\n",
       "\n",
       "    .dataframe thead th {\n",
       "        text-align: right;\n",
       "    }\n",
       "</style>\n",
       "<table border=\"1\" class=\"dataframe\">\n",
       "  <thead>\n",
       "    <tr style=\"text-align: right;\">\n",
       "      <th></th>\n",
       "      <th>BirthCity</th>\n",
       "      <th>BirthCountry</th>\n",
       "      <th>BirthDate</th>\n",
       "      <th>BirthState</th>\n",
       "      <th>College</th>\n",
       "      <th>DepthChartOrder</th>\n",
       "      <th>DepthChartPosition</th>\n",
       "      <th>DraftKingsName</th>\n",
       "      <th>DraftKingsPlayerID</th>\n",
       "      <th>Experience</th>\n",
       "      <th>...</th>\n",
       "      <th>TeamID</th>\n",
       "      <th>UsaTodayHeadshotNoBackgroundUpdated</th>\n",
       "      <th>UsaTodayHeadshotNoBackgroundUrl</th>\n",
       "      <th>UsaTodayHeadshotUpdated</th>\n",
       "      <th>UsaTodayHeadshotUrl</th>\n",
       "      <th>UsaTodayPlayerID</th>\n",
       "      <th>Weight</th>\n",
       "      <th>XmlTeamPlayerID</th>\n",
       "      <th>YahooName</th>\n",
       "      <th>YahooPlayerID</th>\n",
       "    </tr>\n",
       "  </thead>\n",
       "  <tbody>\n",
       "    <tr>\n",
       "      <th>0</th>\n",
       "      <td>Sao Carlos</td>\n",
       "      <td>None</td>\n",
       "      <td>1982-09-13T00:00:00</td>\n",
       "      <td>Brazil</td>\n",
       "      <td>None</td>\n",
       "      <td>1.0</td>\n",
       "      <td>C</td>\n",
       "      <td>Nene Hilario</td>\n",
       "      <td>168013</td>\n",
       "      <td>16</td>\n",
       "      <td>...</td>\n",
       "      <td>22</td>\n",
       "      <td>2018-04-07T17:21:49</td>\n",
       "      <td>http://cdn.usatsimg.com/api/download/?imageID=...</td>\n",
       "      <td>2018-10-11T15:27:01</td>\n",
       "      <td>http://cdn.usatsimg.com/api/download/?imageID=...</td>\n",
       "      <td>4154287</td>\n",
       "      <td>250</td>\n",
       "      <td>NaN</td>\n",
       "      <td>Nene Hilario</td>\n",
       "      <td>3605</td>\n",
       "    </tr>\n",
       "    <tr>\n",
       "      <th>1</th>\n",
       "      <td>St. Louis</td>\n",
       "      <td>None</td>\n",
       "      <td>1993-06-28T00:00:00</td>\n",
       "      <td>Missouri</td>\n",
       "      <td>Florida</td>\n",
       "      <td>0.0</td>\n",
       "      <td>SF</td>\n",
       "      <td>Bradley Beal</td>\n",
       "      <td>606912</td>\n",
       "      <td>6</td>\n",
       "      <td>...</td>\n",
       "      <td>1</td>\n",
       "      <td>2019-10-14T10:03:12</td>\n",
       "      <td>http://cdn.usatsimg.com/api/download/?imageID=...</td>\n",
       "      <td>2019-10-09T17:16:12</td>\n",
       "      <td>http://cdn.usatsimg.com/api/download/?imageID=...</td>\n",
       "      <td>4154671</td>\n",
       "      <td>207</td>\n",
       "      <td>3395.0</td>\n",
       "      <td>Bradley Beal</td>\n",
       "      <td>5009</td>\n",
       "    </tr>\n",
       "    <tr>\n",
       "      <th>2</th>\n",
       "      <td>Raleigh</td>\n",
       "      <td>None</td>\n",
       "      <td>1990-09-06T00:00:00</td>\n",
       "      <td>North Carolina</td>\n",
       "      <td>Kentucky</td>\n",
       "      <td>NaN</td>\n",
       "      <td>None</td>\n",
       "      <td>John Wall</td>\n",
       "      <td>509456</td>\n",
       "      <td>8</td>\n",
       "      <td>...</td>\n",
       "      <td>1</td>\n",
       "      <td>2018-04-07T18:09:11</td>\n",
       "      <td>http://cdn.usatsimg.com/api/download/?imageID=...</td>\n",
       "      <td>2013-09-28T20:45:54</td>\n",
       "      <td>http://cdn.usatsimg.com/api/download/?imageID=...</td>\n",
       "      <td>4154713</td>\n",
       "      <td>210</td>\n",
       "      <td>2771.0</td>\n",
       "      <td>John Wall</td>\n",
       "      <td>4716</td>\n",
       "    </tr>\n",
       "    <tr>\n",
       "      <th>3</th>\n",
       "      <td>St. Louis</td>\n",
       "      <td>None</td>\n",
       "      <td>1993-06-03T00:00:00</td>\n",
       "      <td>Missouri</td>\n",
       "      <td>Georgetown</td>\n",
       "      <td>0.0</td>\n",
       "      <td>SF</td>\n",
       "      <td>Otto Porter Jr.</td>\n",
       "      <td>609256</td>\n",
       "      <td>5</td>\n",
       "      <td>...</td>\n",
       "      <td>11</td>\n",
       "      <td>2019-11-26T10:27:38</td>\n",
       "      <td>http://cdn.usatsimg.com/api/download/?imageID=...</td>\n",
       "      <td>2019-11-26T10:26:50</td>\n",
       "      <td>http://cdn.usatsimg.com/api/download/?imageID=...</td>\n",
       "      <td>4155043</td>\n",
       "      <td>198</td>\n",
       "      <td>3614.0</td>\n",
       "      <td>Otto Porter Jr.</td>\n",
       "      <td>5154</td>\n",
       "    </tr>\n",
       "    <tr>\n",
       "      <th>4</th>\n",
       "      <td>Baton Rouge</td>\n",
       "      <td>None</td>\n",
       "      <td>1986-05-08T00:00:00</td>\n",
       "      <td>Louisiana</td>\n",
       "      <td>LSU</td>\n",
       "      <td>1.0</td>\n",
       "      <td>PG</td>\n",
       "      <td>Garrett Temple</td>\n",
       "      <td>263903</td>\n",
       "      <td>8</td>\n",
       "      <td>...</td>\n",
       "      <td>8</td>\n",
       "      <td>2019-11-26T10:22:39</td>\n",
       "      <td>http://cdn.usatsimg.com/api/download/?imageID=...</td>\n",
       "      <td>2019-11-26T10:22:31</td>\n",
       "      <td>http://cdn.usatsimg.com/api/download/?imageID=...</td>\n",
       "      <td>4155153</td>\n",
       "      <td>195</td>\n",
       "      <td>3009.0</td>\n",
       "      <td>Garrett Temple</td>\n",
       "      <td>4682</td>\n",
       "    </tr>\n",
       "  </tbody>\n",
       "</table>\n",
       "<p>5 rows × 49 columns</p>\n",
       "</div>"
      ],
      "text/plain": [
       "     BirthCity BirthCountry            BirthDate      BirthState     College  \\\n",
       "0   Sao Carlos         None  1982-09-13T00:00:00          Brazil        None   \n",
       "1    St. Louis         None  1993-06-28T00:00:00        Missouri     Florida   \n",
       "2      Raleigh         None  1990-09-06T00:00:00  North Carolina    Kentucky   \n",
       "3    St. Louis         None  1993-06-03T00:00:00        Missouri  Georgetown   \n",
       "4  Baton Rouge         None  1986-05-08T00:00:00       Louisiana         LSU   \n",
       "\n",
       "   DepthChartOrder DepthChartPosition   DraftKingsName  DraftKingsPlayerID  \\\n",
       "0              1.0                  C     Nene Hilario              168013   \n",
       "1              0.0                 SF     Bradley Beal              606912   \n",
       "2              NaN               None        John Wall              509456   \n",
       "3              0.0                 SF  Otto Porter Jr.              609256   \n",
       "4              1.0                 PG   Garrett Temple              263903   \n",
       "\n",
       "   Experience  ... TeamID  UsaTodayHeadshotNoBackgroundUpdated  \\\n",
       "0          16  ...     22                  2018-04-07T17:21:49   \n",
       "1           6  ...      1                  2019-10-14T10:03:12   \n",
       "2           8  ...      1                  2018-04-07T18:09:11   \n",
       "3           5  ...     11                  2019-11-26T10:27:38   \n",
       "4           8  ...      8                  2019-11-26T10:22:39   \n",
       "\n",
       "                     UsaTodayHeadshotNoBackgroundUrl UsaTodayHeadshotUpdated  \\\n",
       "0  http://cdn.usatsimg.com/api/download/?imageID=...     2018-10-11T15:27:01   \n",
       "1  http://cdn.usatsimg.com/api/download/?imageID=...     2019-10-09T17:16:12   \n",
       "2  http://cdn.usatsimg.com/api/download/?imageID=...     2013-09-28T20:45:54   \n",
       "3  http://cdn.usatsimg.com/api/download/?imageID=...     2019-11-26T10:26:50   \n",
       "4  http://cdn.usatsimg.com/api/download/?imageID=...     2019-11-26T10:22:31   \n",
       "\n",
       "                                 UsaTodayHeadshotUrl UsaTodayPlayerID  Weight  \\\n",
       "0  http://cdn.usatsimg.com/api/download/?imageID=...          4154287     250   \n",
       "1  http://cdn.usatsimg.com/api/download/?imageID=...          4154671     207   \n",
       "2  http://cdn.usatsimg.com/api/download/?imageID=...          4154713     210   \n",
       "3  http://cdn.usatsimg.com/api/download/?imageID=...          4155043     198   \n",
       "4  http://cdn.usatsimg.com/api/download/?imageID=...          4155153     195   \n",
       "\n",
       "   XmlTeamPlayerID        YahooName YahooPlayerID  \n",
       "0              NaN     Nene Hilario          3605  \n",
       "1           3395.0     Bradley Beal          5009  \n",
       "2           2771.0        John Wall          4716  \n",
       "3           3614.0  Otto Porter Jr.          5154  \n",
       "4           3009.0   Garrett Temple          4682  \n",
       "\n",
       "[5 rows x 49 columns]"
      ]
     },
     "execution_count": 12,
     "metadata": {},
     "output_type": "execute_result"
    }
   ],
   "source": [
    "import requests\n",
    "\n",
    "API_KEY = \"b3e042d3632a419eab661d4caa4cb7c5\"\n",
    "url = \"https://api.sportsdata.io/v3/nba/scores/json/Players?key=\" + API_KEY\n",
    "response = requests.request(\"GET\", url)\n",
    "df_playersData_api = pd.DataFrame(response.json())\n",
    "df_playersData_api.head()"
   ]
  },
  {
   "cell_type": "code",
   "execution_count": 13,
   "metadata": {},
   "outputs": [
    {
     "data": {
      "text/html": [
       "<div>\n",
       "<style scoped>\n",
       "    .dataframe tbody tr th:only-of-type {\n",
       "        vertical-align: middle;\n",
       "    }\n",
       "\n",
       "    .dataframe tbody tr th {\n",
       "        vertical-align: top;\n",
       "    }\n",
       "\n",
       "    .dataframe thead th {\n",
       "        text-align: right;\n",
       "    }\n",
       "</style>\n",
       "<table border=\"1\" class=\"dataframe\">\n",
       "  <thead>\n",
       "    <tr style=\"text-align: right;\">\n",
       "      <th></th>\n",
       "      <th>Name</th>\n",
       "      <th>PlayerID</th>\n",
       "      <th>Position</th>\n",
       "      <th>Team</th>\n",
       "      <th>TeamID</th>\n",
       "    </tr>\n",
       "  </thead>\n",
       "  <tbody>\n",
       "    <tr>\n",
       "      <th>0</th>\n",
       "      <td>LeBron James</td>\n",
       "      <td>20000571</td>\n",
       "      <td>Scrambled</td>\n",
       "      <td>EAST</td>\n",
       "      <td>31</td>\n",
       "    </tr>\n",
       "    <tr>\n",
       "      <th>1</th>\n",
       "      <td>Kawhi Leonard</td>\n",
       "      <td>20000646</td>\n",
       "      <td>Scrambled</td>\n",
       "      <td>EAST</td>\n",
       "      <td>31</td>\n",
       "    </tr>\n",
       "    <tr>\n",
       "      <th>2</th>\n",
       "      <td>Kyrie Irving</td>\n",
       "      <td>20000574</td>\n",
       "      <td>Scrambled</td>\n",
       "      <td>EAST</td>\n",
       "      <td>31</td>\n",
       "    </tr>\n",
       "    <tr>\n",
       "      <th>3</th>\n",
       "      <td>Kevin Durant</td>\n",
       "      <td>20000884</td>\n",
       "      <td>Scrambled</td>\n",
       "      <td>EAST</td>\n",
       "      <td>31</td>\n",
       "    </tr>\n",
       "    <tr>\n",
       "      <th>4</th>\n",
       "      <td>James Harden</td>\n",
       "      <td>20000544</td>\n",
       "      <td>Scrambled</td>\n",
       "      <td>EAST</td>\n",
       "      <td>31</td>\n",
       "    </tr>\n",
       "  </tbody>\n",
       "</table>\n",
       "</div>"
      ],
      "text/plain": [
       "            Name  PlayerID   Position  Team  TeamID\n",
       "0   LeBron James  20000571  Scrambled  EAST      31\n",
       "1  Kawhi Leonard  20000646  Scrambled  EAST      31\n",
       "2   Kyrie Irving  20000574  Scrambled  EAST      31\n",
       "3   Kevin Durant  20000884  Scrambled  EAST      31\n",
       "4   James Harden  20000544  Scrambled  EAST      31"
      ]
     },
     "execution_count": 13,
     "metadata": {},
     "output_type": "execute_result"
    }
   ],
   "source": [
    "url = \"https://api.sportsdata.io/v3/nba/stats/json/AllStars/2019?key=\" + API_KEY\n",
    "response = requests.request(\"GET\", url)\n",
    "df_allStarsData_api = pd.DataFrame(response.json())\n",
    "df_allStarsData_api.head()"
   ]
  },
  {
   "cell_type": "markdown",
   "metadata": {},
   "source": [
    "# 3. Collecting data using excel File \n",
    "### Source: NBA dataset from kaggle"
   ]
  },
  {
   "cell_type": "code",
   "execution_count": 14,
   "metadata": {},
   "outputs": [
    {
     "data": {
      "text/html": [
       "<div>\n",
       "<style scoped>\n",
       "    .dataframe tbody tr th:only-of-type {\n",
       "        vertical-align: middle;\n",
       "    }\n",
       "\n",
       "    .dataframe tbody tr th {\n",
       "        vertical-align: top;\n",
       "    }\n",
       "\n",
       "    .dataframe thead th {\n",
       "        text-align: right;\n",
       "    }\n",
       "</style>\n",
       "<table border=\"1\" class=\"dataframe\">\n",
       "  <thead>\n",
       "    <tr style=\"text-align: right;\">\n",
       "      <th></th>\n",
       "      <th>Unnamed: 0</th>\n",
       "      <th>player_name</th>\n",
       "      <th>team_abbreviation</th>\n",
       "      <th>age</th>\n",
       "      <th>player_height</th>\n",
       "      <th>player_weight</th>\n",
       "      <th>college</th>\n",
       "      <th>country</th>\n",
       "      <th>draft_year</th>\n",
       "      <th>draft_round</th>\n",
       "      <th>...</th>\n",
       "      <th>pts</th>\n",
       "      <th>reb</th>\n",
       "      <th>ast</th>\n",
       "      <th>net_rating</th>\n",
       "      <th>oreb_pct</th>\n",
       "      <th>dreb_pct</th>\n",
       "      <th>usg_pct</th>\n",
       "      <th>ts_pct</th>\n",
       "      <th>ast_pct</th>\n",
       "      <th>season</th>\n",
       "    </tr>\n",
       "  </thead>\n",
       "  <tbody>\n",
       "    <tr>\n",
       "      <th>9556</th>\n",
       "      <td>9556</td>\n",
       "      <td>Elijah Millsap</td>\n",
       "      <td>PHX</td>\n",
       "      <td>29.0</td>\n",
       "      <td>200.66</td>\n",
       "      <td>97.52228</td>\n",
       "      <td>Alabama-Birmingham</td>\n",
       "      <td>USA</td>\n",
       "      <td>Undrafted</td>\n",
       "      <td>Undrafted</td>\n",
       "      <td>...</td>\n",
       "      <td>1.5</td>\n",
       "      <td>3.0</td>\n",
       "      <td>0.5</td>\n",
       "      <td>-1.8</td>\n",
       "      <td>0.125</td>\n",
       "      <td>0.150</td>\n",
       "      <td>0.199</td>\n",
       "      <td>0.190</td>\n",
       "      <td>0.067</td>\n",
       "      <td>2016-17</td>\n",
       "    </tr>\n",
       "    <tr>\n",
       "      <th>9557</th>\n",
       "      <td>9557</td>\n",
       "      <td>Elfrid Payton</td>\n",
       "      <td>ORL</td>\n",
       "      <td>23.0</td>\n",
       "      <td>193.04</td>\n",
       "      <td>83.91452</td>\n",
       "      <td>Louisiana-Lafayette</td>\n",
       "      <td>USA</td>\n",
       "      <td>2014</td>\n",
       "      <td>1</td>\n",
       "      <td>...</td>\n",
       "      <td>12.8</td>\n",
       "      <td>4.7</td>\n",
       "      <td>6.5</td>\n",
       "      <td>-2.7</td>\n",
       "      <td>0.039</td>\n",
       "      <td>0.136</td>\n",
       "      <td>0.213</td>\n",
       "      <td>0.520</td>\n",
       "      <td>0.329</td>\n",
       "      <td>2016-17</td>\n",
       "    </tr>\n",
       "    <tr>\n",
       "      <th>9558</th>\n",
       "      <td>9558</td>\n",
       "      <td>Edy Tavares</td>\n",
       "      <td>CLE</td>\n",
       "      <td>25.0</td>\n",
       "      <td>220.98</td>\n",
       "      <td>120.20188</td>\n",
       "      <td>None</td>\n",
       "      <td>Cabo Verde</td>\n",
       "      <td>2014</td>\n",
       "      <td>2</td>\n",
       "      <td>...</td>\n",
       "      <td>4.0</td>\n",
       "      <td>5.5</td>\n",
       "      <td>0.5</td>\n",
       "      <td>15.2</td>\n",
       "      <td>0.160</td>\n",
       "      <td>0.241</td>\n",
       "      <td>0.137</td>\n",
       "      <td>0.633</td>\n",
       "      <td>0.071</td>\n",
       "      <td>2016-17</td>\n",
       "    </tr>\n",
       "    <tr>\n",
       "      <th>9559</th>\n",
       "      <td>9559</td>\n",
       "      <td>Willy Hernangomez</td>\n",
       "      <td>NYK</td>\n",
       "      <td>23.0</td>\n",
       "      <td>210.82</td>\n",
       "      <td>108.86208</td>\n",
       "      <td>None</td>\n",
       "      <td>Spain</td>\n",
       "      <td>2015</td>\n",
       "      <td>2</td>\n",
       "      <td>...</td>\n",
       "      <td>8.2</td>\n",
       "      <td>7.0</td>\n",
       "      <td>1.3</td>\n",
       "      <td>-2.8</td>\n",
       "      <td>0.142</td>\n",
       "      <td>0.263</td>\n",
       "      <td>0.202</td>\n",
       "      <td>0.564</td>\n",
       "      <td>0.116</td>\n",
       "      <td>2016-17</td>\n",
       "    </tr>\n",
       "    <tr>\n",
       "      <th>9560</th>\n",
       "      <td>9560</td>\n",
       "      <td>Wilson Chandler</td>\n",
       "      <td>DEN</td>\n",
       "      <td>30.0</td>\n",
       "      <td>203.20</td>\n",
       "      <td>102.05820</td>\n",
       "      <td>DePaul</td>\n",
       "      <td>USA</td>\n",
       "      <td>2007</td>\n",
       "      <td>1</td>\n",
       "      <td>...</td>\n",
       "      <td>15.7</td>\n",
       "      <td>6.5</td>\n",
       "      <td>2.0</td>\n",
       "      <td>-1.7</td>\n",
       "      <td>0.052</td>\n",
       "      <td>0.178</td>\n",
       "      <td>0.221</td>\n",
       "      <td>0.545</td>\n",
       "      <td>0.097</td>\n",
       "      <td>2016-17</td>\n",
       "    </tr>\n",
       "  </tbody>\n",
       "</table>\n",
       "<p>5 rows × 22 columns</p>\n",
       "</div>"
      ],
      "text/plain": [
       "      Unnamed: 0        player_name team_abbreviation   age  player_height  \\\n",
       "9556        9556     Elijah Millsap               PHX  29.0         200.66   \n",
       "9557        9557      Elfrid Payton               ORL  23.0         193.04   \n",
       "9558        9558        Edy Tavares               CLE  25.0         220.98   \n",
       "9559        9559  Willy Hernangomez               NYK  23.0         210.82   \n",
       "9560        9560    Wilson Chandler               DEN  30.0         203.20   \n",
       "\n",
       "      player_weight              college     country draft_year draft_round  \\\n",
       "9556       97.52228   Alabama-Birmingham         USA  Undrafted   Undrafted   \n",
       "9557       83.91452  Louisiana-Lafayette         USA       2014           1   \n",
       "9558      120.20188                 None  Cabo Verde       2014           2   \n",
       "9559      108.86208                 None       Spain       2015           2   \n",
       "9560      102.05820               DePaul         USA       2007           1   \n",
       "\n",
       "      ...   pts  reb  ast  net_rating  oreb_pct  dreb_pct  usg_pct  ts_pct  \\\n",
       "9556  ...   1.5  3.0  0.5        -1.8     0.125     0.150    0.199   0.190   \n",
       "9557  ...  12.8  4.7  6.5        -2.7     0.039     0.136    0.213   0.520   \n",
       "9558  ...   4.0  5.5  0.5        15.2     0.160     0.241    0.137   0.633   \n",
       "9559  ...   8.2  7.0  1.3        -2.8     0.142     0.263    0.202   0.564   \n",
       "9560  ...  15.7  6.5  2.0        -1.7     0.052     0.178    0.221   0.545   \n",
       "\n",
       "      ast_pct   season  \n",
       "9556    0.067  2016-17  \n",
       "9557    0.329  2016-17  \n",
       "9558    0.071  2016-17  \n",
       "9559    0.116  2016-17  \n",
       "9560    0.097  2016-17  \n",
       "\n",
       "[5 rows x 22 columns]"
      ]
     },
     "execution_count": 14,
     "metadata": {},
     "output_type": "execute_result"
    }
   ],
   "source": [
    "import pandas as pd\n",
    "\n",
    "data_from_Excel = pd.read_csv('./nba-players-data/all_seasons.csv')\n",
    "data_from_Excel.tail()"
   ]
  },
  {
   "cell_type": "markdown",
   "metadata": {},
   "source": [
    "## Re-naming first column to id to keep appropriate name"
   ]
  },
  {
   "cell_type": "code",
   "execution_count": 15,
   "metadata": {},
   "outputs": [
    {
     "data": {
      "text/html": [
       "<div>\n",
       "<style scoped>\n",
       "    .dataframe tbody tr th:only-of-type {\n",
       "        vertical-align: middle;\n",
       "    }\n",
       "\n",
       "    .dataframe tbody tr th {\n",
       "        vertical-align: top;\n",
       "    }\n",
       "\n",
       "    .dataframe thead th {\n",
       "        text-align: right;\n",
       "    }\n",
       "</style>\n",
       "<table border=\"1\" class=\"dataframe\">\n",
       "  <thead>\n",
       "    <tr style=\"text-align: right;\">\n",
       "      <th></th>\n",
       "      <th>id</th>\n",
       "      <th>player_name</th>\n",
       "      <th>team_abbreviation</th>\n",
       "      <th>age</th>\n",
       "      <th>player_height</th>\n",
       "      <th>player_weight</th>\n",
       "      <th>college</th>\n",
       "      <th>country</th>\n",
       "      <th>draft_year</th>\n",
       "      <th>draft_round</th>\n",
       "      <th>...</th>\n",
       "      <th>pts</th>\n",
       "      <th>reb</th>\n",
       "      <th>ast</th>\n",
       "      <th>net_rating</th>\n",
       "      <th>oreb_pct</th>\n",
       "      <th>dreb_pct</th>\n",
       "      <th>usg_pct</th>\n",
       "      <th>ts_pct</th>\n",
       "      <th>ast_pct</th>\n",
       "      <th>season</th>\n",
       "    </tr>\n",
       "  </thead>\n",
       "  <tbody>\n",
       "    <tr>\n",
       "      <th>0</th>\n",
       "      <td>0</td>\n",
       "      <td>Chris Robinson</td>\n",
       "      <td>VAN</td>\n",
       "      <td>23.0</td>\n",
       "      <td>195.58</td>\n",
       "      <td>90.71840</td>\n",
       "      <td>Western Kentucky</td>\n",
       "      <td>USA</td>\n",
       "      <td>1996</td>\n",
       "      <td>2</td>\n",
       "      <td>...</td>\n",
       "      <td>4.6</td>\n",
       "      <td>1.7</td>\n",
       "      <td>1.6</td>\n",
       "      <td>-11.4</td>\n",
       "      <td>0.039</td>\n",
       "      <td>0.088</td>\n",
       "      <td>0.155</td>\n",
       "      <td>0.486</td>\n",
       "      <td>0.156</td>\n",
       "      <td>1996-97</td>\n",
       "    </tr>\n",
       "    <tr>\n",
       "      <th>1</th>\n",
       "      <td>1</td>\n",
       "      <td>Matt Fish</td>\n",
       "      <td>MIA</td>\n",
       "      <td>27.0</td>\n",
       "      <td>210.82</td>\n",
       "      <td>106.59412</td>\n",
       "      <td>North Carolina-Wilmington</td>\n",
       "      <td>USA</td>\n",
       "      <td>1992</td>\n",
       "      <td>2</td>\n",
       "      <td>...</td>\n",
       "      <td>0.3</td>\n",
       "      <td>0.8</td>\n",
       "      <td>0.0</td>\n",
       "      <td>-15.1</td>\n",
       "      <td>0.143</td>\n",
       "      <td>0.267</td>\n",
       "      <td>0.265</td>\n",
       "      <td>0.333</td>\n",
       "      <td>0.000</td>\n",
       "      <td>1996-97</td>\n",
       "    </tr>\n",
       "    <tr>\n",
       "      <th>2</th>\n",
       "      <td>2</td>\n",
       "      <td>Matt Bullard</td>\n",
       "      <td>HOU</td>\n",
       "      <td>30.0</td>\n",
       "      <td>208.28</td>\n",
       "      <td>106.59412</td>\n",
       "      <td>Iowa</td>\n",
       "      <td>USA</td>\n",
       "      <td>Undrafted</td>\n",
       "      <td>Undrafted</td>\n",
       "      <td>...</td>\n",
       "      <td>4.5</td>\n",
       "      <td>1.6</td>\n",
       "      <td>0.9</td>\n",
       "      <td>0.9</td>\n",
       "      <td>0.016</td>\n",
       "      <td>0.115</td>\n",
       "      <td>0.151</td>\n",
       "      <td>0.535</td>\n",
       "      <td>0.099</td>\n",
       "      <td>1996-97</td>\n",
       "    </tr>\n",
       "    <tr>\n",
       "      <th>3</th>\n",
       "      <td>3</td>\n",
       "      <td>Marty Conlon</td>\n",
       "      <td>BOS</td>\n",
       "      <td>29.0</td>\n",
       "      <td>210.82</td>\n",
       "      <td>111.13004</td>\n",
       "      <td>Providence</td>\n",
       "      <td>USA</td>\n",
       "      <td>Undrafted</td>\n",
       "      <td>Undrafted</td>\n",
       "      <td>...</td>\n",
       "      <td>7.8</td>\n",
       "      <td>4.4</td>\n",
       "      <td>1.4</td>\n",
       "      <td>-9.0</td>\n",
       "      <td>0.083</td>\n",
       "      <td>0.152</td>\n",
       "      <td>0.167</td>\n",
       "      <td>0.542</td>\n",
       "      <td>0.101</td>\n",
       "      <td>1996-97</td>\n",
       "    </tr>\n",
       "    <tr>\n",
       "      <th>4</th>\n",
       "      <td>4</td>\n",
       "      <td>Martin Muursepp</td>\n",
       "      <td>DAL</td>\n",
       "      <td>22.0</td>\n",
       "      <td>205.74</td>\n",
       "      <td>106.59412</td>\n",
       "      <td>None</td>\n",
       "      <td>USA</td>\n",
       "      <td>1996</td>\n",
       "      <td>1</td>\n",
       "      <td>...</td>\n",
       "      <td>3.7</td>\n",
       "      <td>1.6</td>\n",
       "      <td>0.5</td>\n",
       "      <td>-14.5</td>\n",
       "      <td>0.109</td>\n",
       "      <td>0.118</td>\n",
       "      <td>0.233</td>\n",
       "      <td>0.482</td>\n",
       "      <td>0.114</td>\n",
       "      <td>1996-97</td>\n",
       "    </tr>\n",
       "  </tbody>\n",
       "</table>\n",
       "<p>5 rows × 22 columns</p>\n",
       "</div>"
      ],
      "text/plain": [
       "   id      player_name team_abbreviation   age  player_height  player_weight  \\\n",
       "0   0   Chris Robinson               VAN  23.0         195.58       90.71840   \n",
       "1   1        Matt Fish               MIA  27.0         210.82      106.59412   \n",
       "2   2     Matt Bullard               HOU  30.0         208.28      106.59412   \n",
       "3   3     Marty Conlon               BOS  29.0         210.82      111.13004   \n",
       "4   4  Martin Muursepp               DAL  22.0         205.74      106.59412   \n",
       "\n",
       "                     college country draft_year draft_round  ...  pts  reb  \\\n",
       "0           Western Kentucky     USA       1996           2  ...  4.6  1.7   \n",
       "1  North Carolina-Wilmington     USA       1992           2  ...  0.3  0.8   \n",
       "2                       Iowa     USA  Undrafted   Undrafted  ...  4.5  1.6   \n",
       "3                 Providence     USA  Undrafted   Undrafted  ...  7.8  4.4   \n",
       "4                       None     USA       1996           1  ...  3.7  1.6   \n",
       "\n",
       "   ast  net_rating  oreb_pct  dreb_pct  usg_pct  ts_pct  ast_pct   season  \n",
       "0  1.6       -11.4     0.039     0.088    0.155   0.486    0.156  1996-97  \n",
       "1  0.0       -15.1     0.143     0.267    0.265   0.333    0.000  1996-97  \n",
       "2  0.9         0.9     0.016     0.115    0.151   0.535    0.099  1996-97  \n",
       "3  1.4        -9.0     0.083     0.152    0.167   0.542    0.101  1996-97  \n",
       "4  0.5       -14.5     0.109     0.118    0.233   0.482    0.114  1996-97  \n",
       "\n",
       "[5 rows x 22 columns]"
      ]
     },
     "execution_count": 15,
     "metadata": {},
     "output_type": "execute_result"
    }
   ],
   "source": [
    "data_from_Excel = data_from_Excel.rename(columns={\"Unnamed: 0\":\"id\"})\n",
    "data_from_Excel.head()"
   ]
  },
  {
   "cell_type": "markdown",
   "metadata": {},
   "source": [
    "### checking if id is unique"
   ]
  },
  {
   "cell_type": "code",
   "execution_count": 16,
   "metadata": {},
   "outputs": [
    {
     "data": {
      "text/plain": [
       "True"
      ]
     },
     "execution_count": 16,
     "metadata": {},
     "output_type": "execute_result"
    }
   ],
   "source": [
    "data_from_Excel['id'].is_unique"
   ]
  },
  {
   "cell_type": "markdown",
   "metadata": {},
   "source": [
    "## Now that we have downloaded data from 3 data sources we can perform audit process and clean data if needed"
   ]
  },
  {
   "cell_type": "markdown",
   "metadata": {},
   "source": [
    "## Auditing the colllected Data\n",
    "1. checking which columns the data have\n",
    "2. if data is trustable or not (using plots)\n",
    "3. if there are any missing values in data"
   ]
  },
  {
   "cell_type": "code",
   "execution_count": 17,
   "metadata": {},
   "outputs": [
    {
     "data": {
      "text/plain": [
       "Index(['id', 'player_name', 'team_abbreviation', 'age', 'player_height',\n",
       "       'player_weight', 'college', 'country', 'draft_year', 'draft_round',\n",
       "       'draft_number', 'gp', 'pts', 'reb', 'ast', 'net_rating', 'oreb_pct',\n",
       "       'dreb_pct', 'usg_pct', 'ts_pct', 'ast_pct', 'season'],\n",
       "      dtype='object')"
      ]
     },
     "execution_count": 17,
     "metadata": {},
     "output_type": "execute_result"
    }
   ],
   "source": [
    "data_from_Excel.columns"
   ]
  },
  {
   "cell_type": "code",
   "execution_count": 18,
   "metadata": {},
   "outputs": [
    {
     "data": {
      "text/html": [
       "<div>\n",
       "<style scoped>\n",
       "    .dataframe tbody tr th:only-of-type {\n",
       "        vertical-align: middle;\n",
       "    }\n",
       "\n",
       "    .dataframe tbody tr th {\n",
       "        vertical-align: top;\n",
       "    }\n",
       "\n",
       "    .dataframe thead th {\n",
       "        text-align: right;\n",
       "    }\n",
       "</style>\n",
       "<table border=\"1\" class=\"dataframe\">\n",
       "  <thead>\n",
       "    <tr style=\"text-align: right;\">\n",
       "      <th></th>\n",
       "      <th>id</th>\n",
       "      <th>age</th>\n",
       "      <th>player_height</th>\n",
       "      <th>player_weight</th>\n",
       "      <th>gp</th>\n",
       "      <th>pts</th>\n",
       "      <th>reb</th>\n",
       "      <th>ast</th>\n",
       "      <th>net_rating</th>\n",
       "      <th>oreb_pct</th>\n",
       "      <th>dreb_pct</th>\n",
       "      <th>usg_pct</th>\n",
       "      <th>ts_pct</th>\n",
       "      <th>ast_pct</th>\n",
       "    </tr>\n",
       "  </thead>\n",
       "  <tbody>\n",
       "    <tr>\n",
       "      <th>count</th>\n",
       "      <td>9561.000000</td>\n",
       "      <td>9561.000000</td>\n",
       "      <td>9561.000000</td>\n",
       "      <td>9561.000000</td>\n",
       "      <td>9561.000000</td>\n",
       "      <td>9561.000000</td>\n",
       "      <td>9561.000000</td>\n",
       "      <td>9561.000000</td>\n",
       "      <td>9561.000000</td>\n",
       "      <td>9561.000000</td>\n",
       "      <td>9561.000000</td>\n",
       "      <td>9561.000000</td>\n",
       "      <td>9561.000000</td>\n",
       "      <td>9561.000000</td>\n",
       "    </tr>\n",
       "    <tr>\n",
       "      <th>mean</th>\n",
       "      <td>4780.000000</td>\n",
       "      <td>27.336157</td>\n",
       "      <td>200.953442</td>\n",
       "      <td>100.975853</td>\n",
       "      <td>53.073528</td>\n",
       "      <td>8.070683</td>\n",
       "      <td>3.565161</td>\n",
       "      <td>1.788516</td>\n",
       "      <td>-2.214413</td>\n",
       "      <td>0.057963</td>\n",
       "      <td>0.142879</td>\n",
       "      <td>0.186582</td>\n",
       "      <td>0.504795</td>\n",
       "      <td>0.130812</td>\n",
       "    </tr>\n",
       "    <tr>\n",
       "      <th>std</th>\n",
       "      <td>2760.167296</td>\n",
       "      <td>4.350559</td>\n",
       "      <td>9.281158</td>\n",
       "      <td>12.780883</td>\n",
       "      <td>24.882139</td>\n",
       "      <td>5.888910</td>\n",
       "      <td>2.494161</td>\n",
       "      <td>1.793835</td>\n",
       "      <td>11.545131</td>\n",
       "      <td>0.044568</td>\n",
       "      <td>0.062211</td>\n",
       "      <td>0.052344</td>\n",
       "      <td>0.093493</td>\n",
       "      <td>0.095428</td>\n",
       "    </tr>\n",
       "    <tr>\n",
       "      <th>min</th>\n",
       "      <td>0.000000</td>\n",
       "      <td>18.000000</td>\n",
       "      <td>160.020000</td>\n",
       "      <td>60.327736</td>\n",
       "      <td>1.000000</td>\n",
       "      <td>0.000000</td>\n",
       "      <td>0.000000</td>\n",
       "      <td>0.000000</td>\n",
       "      <td>-200.000000</td>\n",
       "      <td>0.000000</td>\n",
       "      <td>0.000000</td>\n",
       "      <td>0.000000</td>\n",
       "      <td>0.000000</td>\n",
       "      <td>0.000000</td>\n",
       "    </tr>\n",
       "    <tr>\n",
       "      <th>25%</th>\n",
       "      <td>2390.000000</td>\n",
       "      <td>24.000000</td>\n",
       "      <td>195.580000</td>\n",
       "      <td>91.171992</td>\n",
       "      <td>34.000000</td>\n",
       "      <td>3.500000</td>\n",
       "      <td>1.800000</td>\n",
       "      <td>0.500000</td>\n",
       "      <td>-6.400000</td>\n",
       "      <td>0.023000</td>\n",
       "      <td>0.097000</td>\n",
       "      <td>0.152000</td>\n",
       "      <td>0.476000</td>\n",
       "      <td>0.063000</td>\n",
       "    </tr>\n",
       "    <tr>\n",
       "      <th>50%</th>\n",
       "      <td>4780.000000</td>\n",
       "      <td>27.000000</td>\n",
       "      <td>203.200000</td>\n",
       "      <td>100.697424</td>\n",
       "      <td>60.000000</td>\n",
       "      <td>6.600000</td>\n",
       "      <td>3.000000</td>\n",
       "      <td>1.200000</td>\n",
       "      <td>-1.400000</td>\n",
       "      <td>0.046000</td>\n",
       "      <td>0.134000</td>\n",
       "      <td>0.184000</td>\n",
       "      <td>0.518000</td>\n",
       "      <td>0.102000</td>\n",
       "    </tr>\n",
       "    <tr>\n",
       "      <th>75%</th>\n",
       "      <td>7170.000000</td>\n",
       "      <td>30.000000</td>\n",
       "      <td>208.280000</td>\n",
       "      <td>111.130040</td>\n",
       "      <td>75.000000</td>\n",
       "      <td>11.400000</td>\n",
       "      <td>4.700000</td>\n",
       "      <td>2.400000</td>\n",
       "      <td>3.100000</td>\n",
       "      <td>0.088000</td>\n",
       "      <td>0.184000</td>\n",
       "      <td>0.218000</td>\n",
       "      <td>0.552000</td>\n",
       "      <td>0.178000</td>\n",
       "    </tr>\n",
       "    <tr>\n",
       "      <th>max</th>\n",
       "      <td>9560.000000</td>\n",
       "      <td>44.000000</td>\n",
       "      <td>231.140000</td>\n",
       "      <td>163.293120</td>\n",
       "      <td>85.000000</td>\n",
       "      <td>35.400000</td>\n",
       "      <td>16.300000</td>\n",
       "      <td>11.700000</td>\n",
       "      <td>300.000000</td>\n",
       "      <td>1.000000</td>\n",
       "      <td>1.000000</td>\n",
       "      <td>1.000000</td>\n",
       "      <td>1.064000</td>\n",
       "      <td>1.000000</td>\n",
       "    </tr>\n",
       "  </tbody>\n",
       "</table>\n",
       "</div>"
      ],
      "text/plain": [
       "                id          age  player_height  player_weight           gp  \\\n",
       "count  9561.000000  9561.000000    9561.000000    9561.000000  9561.000000   \n",
       "mean   4780.000000    27.336157     200.953442     100.975853    53.073528   \n",
       "std    2760.167296     4.350559       9.281158      12.780883    24.882139   \n",
       "min       0.000000    18.000000     160.020000      60.327736     1.000000   \n",
       "25%    2390.000000    24.000000     195.580000      91.171992    34.000000   \n",
       "50%    4780.000000    27.000000     203.200000     100.697424    60.000000   \n",
       "75%    7170.000000    30.000000     208.280000     111.130040    75.000000   \n",
       "max    9560.000000    44.000000     231.140000     163.293120    85.000000   \n",
       "\n",
       "               pts          reb          ast   net_rating     oreb_pct  \\\n",
       "count  9561.000000  9561.000000  9561.000000  9561.000000  9561.000000   \n",
       "mean      8.070683     3.565161     1.788516    -2.214413     0.057963   \n",
       "std       5.888910     2.494161     1.793835    11.545131     0.044568   \n",
       "min       0.000000     0.000000     0.000000  -200.000000     0.000000   \n",
       "25%       3.500000     1.800000     0.500000    -6.400000     0.023000   \n",
       "50%       6.600000     3.000000     1.200000    -1.400000     0.046000   \n",
       "75%      11.400000     4.700000     2.400000     3.100000     0.088000   \n",
       "max      35.400000    16.300000    11.700000   300.000000     1.000000   \n",
       "\n",
       "          dreb_pct      usg_pct       ts_pct      ast_pct  \n",
       "count  9561.000000  9561.000000  9561.000000  9561.000000  \n",
       "mean      0.142879     0.186582     0.504795     0.130812  \n",
       "std       0.062211     0.052344     0.093493     0.095428  \n",
       "min       0.000000     0.000000     0.000000     0.000000  \n",
       "25%       0.097000     0.152000     0.476000     0.063000  \n",
       "50%       0.134000     0.184000     0.518000     0.102000  \n",
       "75%       0.184000     0.218000     0.552000     0.178000  \n",
       "max       1.000000     1.000000     1.064000     1.000000  "
      ]
     },
     "execution_count": 18,
     "metadata": {},
     "output_type": "execute_result"
    }
   ],
   "source": [
    "data_from_Excel.describe()"
   ]
  },
  {
   "cell_type": "code",
   "execution_count": 19,
   "metadata": {},
   "outputs": [
    {
     "data": {
      "text/plain": [
       "id                   False\n",
       "player_name          False\n",
       "team_abbreviation    False\n",
       "age                  False\n",
       "player_height        False\n",
       "player_weight        False\n",
       "college              False\n",
       "country              False\n",
       "draft_year           False\n",
       "draft_round          False\n",
       "draft_number         False\n",
       "gp                   False\n",
       "pts                  False\n",
       "reb                  False\n",
       "ast                  False\n",
       "net_rating           False\n",
       "oreb_pct             False\n",
       "dreb_pct             False\n",
       "usg_pct              False\n",
       "ts_pct               False\n",
       "ast_pct              False\n",
       "season               False\n",
       "dtype: bool"
      ]
     },
     "execution_count": 19,
     "metadata": {},
     "output_type": "execute_result"
    }
   ],
   "source": [
    "data_from_Excel.isnull().any()"
   ]
  },
  {
   "cell_type": "code",
   "execution_count": 20,
   "metadata": {},
   "outputs": [
    {
     "data": {
      "text/plain": [
       "0"
      ]
     },
     "execution_count": 20,
     "metadata": {},
     "output_type": "execute_result"
    }
   ],
   "source": [
    "data_from_Excel.isnull().sum().sum()"
   ]
  },
  {
   "cell_type": "markdown",
   "metadata": {},
   "source": [
    "## Plotting some graphs to get a sense about the data that we posses so that we can verify if values are as expected (auditing)"
   ]
  },
  {
   "cell_type": "code",
   "execution_count": 21,
   "metadata": {},
   "outputs": [
    {
     "data": {
      "text/plain": [
       "<matplotlib.axes._subplots.AxesSubplot at 0x1f7d1484a90>"
      ]
     },
     "execution_count": 21,
     "metadata": {},
     "output_type": "execute_result"
    },
    {
     "data": {
      "image/png": "[encoded data removed]",
      "text/plain": [
       "<Figure size 432x288 with 1 Axes>"
      ]
     },
     "metadata": {
      "needs_background": "light"
     },
     "output_type": "display_data"
    }
   ],
   "source": [
    "# Importing liabries used for visualization\n",
    "import seaborn as sns\n",
    "from scipy import stats\n",
    "\n",
    "heights = data_from_Excel['player_height']\n",
    "sns.distplot(heights)"
   ]
  },
  {
   "cell_type": "code",
   "execution_count": 22,
   "metadata": {},
   "outputs": [
    {
     "data": {
      "text/plain": [
       "<matplotlib.axes._subplots.AxesSubplot at 0x1f7d1f59d68>"
      ]
     },
     "execution_count": 22,
     "metadata": {},
     "output_type": "execute_result"
    },
    {
     "data": {
      "image/png": "[encoded data removed]",
      "text/plain": [
       "<Figure size 432x288 with 1 Axes>"
      ]
     },
     "metadata": {
      "needs_background": "light"
     },
     "output_type": "display_data"
    }
   ],
   "source": [
    "weights = data_from_Excel['player_weight']\n",
    "sns.distplot(weights)"
   ]
  },
  {
   "cell_type": "code",
   "execution_count": 23,
   "metadata": {},
   "outputs": [
    {
     "data": {
      "text/plain": [
       "<matplotlib.axes._subplots.AxesSubplot at 0x1f7d1926ef0>"
      ]
     },
     "execution_count": 23,
     "metadata": {},
     "output_type": "execute_result"
    },
    {
     "data": {
      "image/png": "[encoded data removed]",
      "text/plain": [
       "<Figure size 432x288 with 1 Axes>"
      ]
     },
     "metadata": {
      "needs_background": "light"
     },
     "output_type": "display_data"
    }
   ],
   "source": [
    "age = data_from_Excel['age']\n",
    "sns.distplot(age)"
   ]
  },
  {
   "cell_type": "code",
   "execution_count": 24,
   "metadata": {},
   "outputs": [
    {
     "data": {
      "text/plain": [
       "<matplotlib.axes._subplots.AxesSubplot at 0x1f7d1af65f8>"
      ]
     },
     "execution_count": 24,
     "metadata": {},
     "output_type": "execute_result"
    },
    {
     "data": {
      "image/png": "[encoded data removed]",
      "text/plain": [
       "<Figure size 432x288 with 1 Axes>"
      ]
     },
     "metadata": {
      "needs_background": "light"
     },
     "output_type": "display_data"
    }
   ],
   "source": [
    "ratings = data_from_Excel['net_rating']\n",
    "sns.distplot(ratings)"
   ]
  },
  {
   "cell_type": "code",
   "execution_count": 25,
   "metadata": {},
   "outputs": [
    {
     "data": {
      "text/plain": [
       "Index(['BirthCity', 'BirthCountry', 'BirthDate', 'BirthState', 'College',\n",
       "       'DepthChartOrder', 'DepthChartPosition', 'DraftKingsName',\n",
       "       'DraftKingsPlayerID', 'Experience', 'FanDuelName', 'FanDuelPlayerID',\n",
       "       'FantasyAlarmPlayerID', 'FantasyDraftName', 'FantasyDraftPlayerID',\n",
       "       'FirstName', 'GlobalTeamID', 'Height', 'HighSchool', 'InjuryBodyPart',\n",
       "       'InjuryNotes', 'InjuryStartDate', 'InjuryStatus', 'Jersey', 'LastName',\n",
       "       'NbaDotComPlayerID', 'PhotoUrl', 'PlayerID', 'Position',\n",
       "       'PositionCategory', 'RotoWirePlayerID', 'RotoworldPlayerID', 'Salary',\n",
       "       'SportRadarPlayerID', 'SportsDataID', 'SportsDirectPlayerID',\n",
       "       'StatsPlayerID', 'Status', 'Team', 'TeamID',\n",
       "       'UsaTodayHeadshotNoBackgroundUpdated',\n",
       "       'UsaTodayHeadshotNoBackgroundUrl', 'UsaTodayHeadshotUpdated',\n",
       "       'UsaTodayHeadshotUrl', 'UsaTodayPlayerID', 'Weight', 'XmlTeamPlayerID',\n",
       "       'YahooName', 'YahooPlayerID'],\n",
       "      dtype='object')"
      ]
     },
     "execution_count": 25,
     "metadata": {},
     "output_type": "execute_result"
    }
   ],
   "source": [
    "df_playersData_api.columns"
   ]
  },
  {
   "cell_type": "code",
   "execution_count": 26,
   "metadata": {},
   "outputs": [
    {
     "data": {
      "text/plain": [
       "BirthCity                               True\n",
       "BirthCountry                            True\n",
       "BirthDate                               True\n",
       "BirthState                              True\n",
       "College                                 True\n",
       "DepthChartOrder                         True\n",
       "DepthChartPosition                      True\n",
       "DraftKingsName                         False\n",
       "DraftKingsPlayerID                     False\n",
       "Experience                             False\n",
       "FanDuelName                            False\n",
       "FanDuelPlayerID                        False\n",
       "FantasyAlarmPlayerID                    True\n",
       "FantasyDraftName                       False\n",
       "FantasyDraftPlayerID                   False\n",
       "FirstName                              False\n",
       "GlobalTeamID                           False\n",
       "Height                                 False\n",
       "HighSchool                              True\n",
       "InjuryBodyPart                         False\n",
       "InjuryNotes                            False\n",
       "InjuryStartDate                         True\n",
       "InjuryStatus                           False\n",
       "Jersey                                 False\n",
       "LastName                               False\n",
       "NbaDotComPlayerID                      False\n",
       "PhotoUrl                               False\n",
       "PlayerID                               False\n",
       "Position                               False\n",
       "PositionCategory                       False\n",
       "RotoWirePlayerID                        True\n",
       "RotoworldPlayerID                       True\n",
       "Salary                                  True\n",
       "SportRadarPlayerID                     False\n",
       "SportsDataID                           False\n",
       "SportsDirectPlayerID                   False\n",
       "StatsPlayerID                          False\n",
       "Status                                 False\n",
       "Team                                   False\n",
       "TeamID                                 False\n",
       "UsaTodayHeadshotNoBackgroundUpdated     True\n",
       "UsaTodayHeadshotNoBackgroundUrl         True\n",
       "UsaTodayHeadshotUpdated                 True\n",
       "UsaTodayHeadshotUrl                     True\n",
       "UsaTodayPlayerID                       False\n",
       "Weight                                 False\n",
       "XmlTeamPlayerID                         True\n",
       "YahooName                              False\n",
       "YahooPlayerID                          False\n",
       "dtype: bool"
      ]
     },
     "execution_count": 26,
     "metadata": {},
     "output_type": "execute_result"
    }
   ],
   "source": [
    "df_playersData_api.isnull().any()"
   ]
  },
  {
   "cell_type": "markdown",
   "metadata": {},
   "source": [
    "## As we have observed there are many missing values in this api"
   ]
  },
  {
   "cell_type": "code",
   "execution_count": 27,
   "metadata": {},
   "outputs": [
    {
     "data": {
      "text/plain": [
       "Index(['Name', 'PlayerID', 'Position', 'Team', 'TeamID'], dtype='object')"
      ]
     },
     "execution_count": 27,
     "metadata": {},
     "output_type": "execute_result"
    }
   ],
   "source": [
    "df_allStarsData_api.columns"
   ]
  },
  {
   "cell_type": "code",
   "execution_count": 28,
   "metadata": {},
   "outputs": [
    {
     "data": {
      "text/plain": [
       "Name        False\n",
       "PlayerID    False\n",
       "Position    False\n",
       "Team        False\n",
       "TeamID      False\n",
       "dtype: bool"
      ]
     },
     "execution_count": 28,
     "metadata": {},
     "output_type": "execute_result"
    }
   ],
   "source": [
    "df_allStarsData_api.isnull().any()"
   ]
  },
  {
   "cell_type": "code",
   "execution_count": 29,
   "metadata": {},
   "outputs": [
    {
     "data": {
      "text/plain": [
       "SCORING    False\n",
       "GP         False\n",
       "GS         False\n",
       "MPG        False\n",
       "PPG        False\n",
       "PTS/48     False\n",
       "PTS        False\n",
       "FGM/G      False\n",
       "FGA/G      False\n",
       "FG%        False\n",
       "3FGM/G     False\n",
       "3FGA/G     False\n",
       "3FG%       False\n",
       "FTM/G      False\n",
       "FTA/G      False\n",
       "FT%        False\n",
       "HIGH       False\n",
       "PPS        False\n",
       "dtype: bool"
      ]
     },
     "execution_count": 29,
     "metadata": {},
     "output_type": "execute_result"
    }
   ],
   "source": [
    "df_all_data_from_scraping.isnull().any()"
   ]
  },
  {
   "cell_type": "markdown",
   "metadata": {},
   "source": [
    "## scrapped data does not have any missing values"
   ]
  },
  {
   "cell_type": "code",
   "execution_count": 30,
   "metadata": {},
   "outputs": [
    {
     "data": {
      "text/plain": [
       "Index(['SCORING', 'GP', 'GS', 'MPG', 'PPG', 'PTS/48', 'PTS', 'FGM/G', 'FGA/G',\n",
       "       'FG%', '3FGM/G', '3FGA/G', '3FG%', 'FTM/G', 'FTA/G', 'FT%', 'HIGH',\n",
       "       'PPS'],\n",
       "      dtype='object')"
      ]
     },
     "execution_count": 30,
     "metadata": {},
     "output_type": "execute_result"
    }
   ],
   "source": [
    "df_all_data_from_scraping.columns"
   ]
  },
  {
   "cell_type": "code",
   "execution_count": 31,
   "metadata": {},
   "outputs": [
    {
     "data": {
      "text/html": [
       "<div>\n",
       "<style scoped>\n",
       "    .dataframe tbody tr th:only-of-type {\n",
       "        vertical-align: middle;\n",
       "    }\n",
       "\n",
       "    .dataframe tbody tr th {\n",
       "        vertical-align: top;\n",
       "    }\n",
       "\n",
       "    .dataframe thead th {\n",
       "        text-align: right;\n",
       "    }\n",
       "</style>\n",
       "<table border=\"1\" class=\"dataframe\">\n",
       "  <thead>\n",
       "    <tr style=\"text-align: right;\">\n",
       "      <th></th>\n",
       "      <th>GP</th>\n",
       "      <th>GS</th>\n",
       "      <th>PTS</th>\n",
       "      <th>HIGH</th>\n",
       "    </tr>\n",
       "  </thead>\n",
       "  <tbody>\n",
       "    <tr>\n",
       "      <th>count</th>\n",
       "      <td>513.000000</td>\n",
       "      <td>513.000000</td>\n",
       "      <td>513.000000</td>\n",
       "      <td>513.000000</td>\n",
       "    </tr>\n",
       "    <tr>\n",
       "      <th>mean</th>\n",
       "      <td>30.590643</td>\n",
       "      <td>14.405458</td>\n",
       "      <td>319.705653</td>\n",
       "      <td>20.230019</td>\n",
       "    </tr>\n",
       "    <tr>\n",
       "      <th>std</th>\n",
       "      <td>16.174949</td>\n",
       "      <td>17.887215</td>\n",
       "      <td>305.670308</td>\n",
       "      <td>11.590242</td>\n",
       "    </tr>\n",
       "    <tr>\n",
       "      <th>min</th>\n",
       "      <td>0.000000</td>\n",
       "      <td>0.000000</td>\n",
       "      <td>0.000000</td>\n",
       "      <td>0.000000</td>\n",
       "    </tr>\n",
       "    <tr>\n",
       "      <th>25%</th>\n",
       "      <td>16.000000</td>\n",
       "      <td>0.000000</td>\n",
       "      <td>70.000000</td>\n",
       "      <td>12.000000</td>\n",
       "    </tr>\n",
       "    <tr>\n",
       "      <th>50%</th>\n",
       "      <td>35.000000</td>\n",
       "      <td>4.000000</td>\n",
       "      <td>249.000000</td>\n",
       "      <td>20.000000</td>\n",
       "    </tr>\n",
       "    <tr>\n",
       "      <th>75%</th>\n",
       "      <td>45.000000</td>\n",
       "      <td>32.000000</td>\n",
       "      <td>479.000000</td>\n",
       "      <td>27.000000</td>\n",
       "    </tr>\n",
       "    <tr>\n",
       "      <th>max</th>\n",
       "      <td>52.000000</td>\n",
       "      <td>52.000000</td>\n",
       "      <td>1644.000000</td>\n",
       "      <td>61.000000</td>\n",
       "    </tr>\n",
       "  </tbody>\n",
       "</table>\n",
       "</div>"
      ],
      "text/plain": [
       "               GP          GS          PTS        HIGH\n",
       "count  513.000000  513.000000   513.000000  513.000000\n",
       "mean    30.590643   14.405458   319.705653   20.230019\n",
       "std     16.174949   17.887215   305.670308   11.590242\n",
       "min      0.000000    0.000000     0.000000    0.000000\n",
       "25%     16.000000    0.000000    70.000000   12.000000\n",
       "50%     35.000000    4.000000   249.000000   20.000000\n",
       "75%     45.000000   32.000000   479.000000   27.000000\n",
       "max     52.000000   52.000000  1644.000000   61.000000"
      ]
     },
     "execution_count": 31,
     "metadata": {},
     "output_type": "execute_result"
    }
   ],
   "source": [
    "df_all_data_from_scraping.describe()"
   ]
  },
  {
   "cell_type": "code",
   "execution_count": 32,
   "metadata": {},
   "outputs": [
    {
     "data": {
      "text/plain": [
       "<matplotlib.axes._subplots.AxesSubplot at 0x1f7d1f75a58>"
      ]
     },
     "execution_count": 32,
     "metadata": {},
     "output_type": "execute_result"
    },
    {
     "data": {
      "image/png": "[encoded data removed]",
      "text/plain": [
       "<Figure size 432x288 with 1 Axes>"
      ]
     },
     "metadata": {
      "needs_background": "light"
     },
     "output_type": "display_data"
    }
   ],
   "source": [
    "GP_all = df_all_data_from_scraping['GP']\n",
    "sns.distplot(GP_all)"
   ]
  },
  {
   "cell_type": "code",
   "execution_count": 33,
   "metadata": {},
   "outputs": [
    {
     "data": {
      "text/plain": [
       "<matplotlib.axes._subplots.AxesSubplot at 0x1f7d1508cc0>"
      ]
     },
     "execution_count": 33,
     "metadata": {},
     "output_type": "execute_result"
    },
    {
     "data": {
      "image/png": "[encoded data removed]",
      "text/plain": [
       "<Figure size 432x288 with 1 Axes>"
      ]
     },
     "metadata": {
      "needs_background": "light"
     },
     "output_type": "display_data"
    }
   ],
   "source": [
    "PTS_all = df_all_data_from_scraping['PTS']\n",
    "sns.distplot(PTS_all)"
   ]
  },
  {
   "cell_type": "code",
   "execution_count": 34,
   "metadata": {},
   "outputs": [
    {
     "data": {
      "text/plain": [
       "<matplotlib.axes._subplots.AxesSubplot at 0x1f7d15f9c18>"
      ]
     },
     "execution_count": 34,
     "metadata": {},
     "output_type": "execute_result"
    },
    {
     "data": {
      "image/png": "[encoded data removed]",
      "text/plain": [
       "<Figure size 432x288 with 1 Axes>"
      ]
     },
     "metadata": {
      "needs_background": "light"
     },
     "output_type": "display_data"
    }
   ],
   "source": [
    "GS_all = df_all_data_from_scraping['GS']\n",
    "sns.distplot(GS_all)"
   ]
  },
  {
   "cell_type": "markdown",
   "metadata": {},
   "source": [
    "## CONCEPTUAL MODEL"
   ]
  },
  {
   "cell_type": "markdown",
   "metadata": {},
   "source": [
    "1. Players: playerId, firstname, lastname , height , weight, team, birthcountry\n",
    "2. Team: teamId, Team, team_abbrevation\n",
    "3. PlayerStats: playerID, GamesPlayed, PointsPerGame, FeildGoalsMade/G, High, FreeThrowMade/G \n",
    "4. TeamStats: teamID, GamesPlayed, PointsPerGame, FeildGoalsMade/G, High, FreeThrowMade/G "
   ]
  },
  {
   "cell_type": "markdown",
   "metadata": {},
   "source": [
    "### ER MODEL"
   ]
  },
  {
   "cell_type": "code",
   "execution_count": 35,
   "metadata": {},
   "outputs": [
    {
     "data": {
      "image/jpeg": "[encoded data removed]",
      "text/plain": [
       "<IPython.core.display.Image object>"
      ]
     },
     "execution_count": 35,
     "metadata": {},
     "output_type": "execute_result"
    }
   ],
   "source": [
    "from IPython.display import Image\n",
    "Image(\"./Images/ERD.jpeg\")"
   ]
  },
  {
   "cell_type": "markdown",
   "metadata": {},
   "source": [
    "The above figure shows us an entity-relationship model of three different tables from the following: data from movie title table,data from language table, data from votes table. We can infer that id acts as a primary key, meaning that all the tables are linked with movie_title. The fields title,overview,release_date,original_title\n",
    "from movie_title. id holds the common data in movietitle and language. Hence, we can conclude that on merging the three tables we obtain one table which defines a combined data set of values from different places yet relatable, which is known as a conceptual database schema."
   ]
  },
  {
   "cell_type": "markdown",
   "metadata": {},
   "source": [
    "## Generating Tables by reformatting data"
   ]
  },
  {
   "cell_type": "code",
   "execution_count": 36,
   "metadata": {},
   "outputs": [
    {
     "data": {
      "text/plain": [
       "Index(['BirthCity', 'BirthCountry', 'BirthDate', 'BirthState', 'College',\n",
       "       'DepthChartOrder', 'DepthChartPosition', 'DraftKingsName',\n",
       "       'DraftKingsPlayerID', 'Experience', 'FanDuelName', 'FanDuelPlayerID',\n",
       "       'FantasyAlarmPlayerID', 'FantasyDraftName', 'FantasyDraftPlayerID',\n",
       "       'FirstName', 'GlobalTeamID', 'Height', 'HighSchool', 'InjuryBodyPart',\n",
       "       'InjuryNotes', 'InjuryStartDate', 'InjuryStatus', 'Jersey', 'LastName',\n",
       "       'NbaDotComPlayerID', 'PhotoUrl', 'PlayerID', 'Position',\n",
       "       'PositionCategory', 'RotoWirePlayerID', 'RotoworldPlayerID', 'Salary',\n",
       "       'SportRadarPlayerID', 'SportsDataID', 'SportsDirectPlayerID',\n",
       "       'StatsPlayerID', 'Status', 'Team', 'TeamID',\n",
       "       'UsaTodayHeadshotNoBackgroundUpdated',\n",
       "       'UsaTodayHeadshotNoBackgroundUrl', 'UsaTodayHeadshotUpdated',\n",
       "       'UsaTodayHeadshotUrl', 'UsaTodayPlayerID', 'Weight', 'XmlTeamPlayerID',\n",
       "       'YahooName', 'YahooPlayerID'],\n",
       "      dtype='object')"
      ]
     },
     "execution_count": 36,
     "metadata": {},
     "output_type": "execute_result"
    }
   ],
   "source": [
    "df_playersData_api.columns"
   ]
  },
  {
   "cell_type": "code",
   "execution_count": 37,
   "metadata": {},
   "outputs": [
    {
     "data": {
      "text/html": [
       "<div>\n",
       "<style scoped>\n",
       "    .dataframe tbody tr th:only-of-type {\n",
       "        vertical-align: middle;\n",
       "    }\n",
       "\n",
       "    .dataframe tbody tr th {\n",
       "        vertical-align: top;\n",
       "    }\n",
       "\n",
       "    .dataframe thead th {\n",
       "        text-align: right;\n",
       "    }\n",
       "</style>\n",
       "<table border=\"1\" class=\"dataframe\">\n",
       "  <thead>\n",
       "    <tr style=\"text-align: right;\">\n",
       "      <th></th>\n",
       "      <th>PlayerID</th>\n",
       "      <th>FirstName</th>\n",
       "      <th>LastName</th>\n",
       "      <th>Height</th>\n",
       "      <th>Weight</th>\n",
       "      <th>Team</th>\n",
       "      <th>BirthDate</th>\n",
       "    </tr>\n",
       "  </thead>\n",
       "  <tbody>\n",
       "    <tr>\n",
       "      <th>0</th>\n",
       "      <td>20000439</td>\n",
       "      <td>Nene</td>\n",
       "      <td>Hilario</td>\n",
       "      <td>83</td>\n",
       "      <td>250</td>\n",
       "      <td>HOU</td>\n",
       "      <td>1982-09-13T00:00:00</td>\n",
       "    </tr>\n",
       "    <tr>\n",
       "      <th>1</th>\n",
       "      <td>20000441</td>\n",
       "      <td>Bradley</td>\n",
       "      <td>Beal</td>\n",
       "      <td>75</td>\n",
       "      <td>207</td>\n",
       "      <td>WAS</td>\n",
       "      <td>1993-06-28T00:00:00</td>\n",
       "    </tr>\n",
       "    <tr>\n",
       "      <th>2</th>\n",
       "      <td>20000442</td>\n",
       "      <td>John</td>\n",
       "      <td>Wall</td>\n",
       "      <td>76</td>\n",
       "      <td>210</td>\n",
       "      <td>WAS</td>\n",
       "      <td>1990-09-06T00:00:00</td>\n",
       "    </tr>\n",
       "    <tr>\n",
       "      <th>3</th>\n",
       "      <td>20000443</td>\n",
       "      <td>Otto</td>\n",
       "      <td>Porter</td>\n",
       "      <td>80</td>\n",
       "      <td>198</td>\n",
       "      <td>CHI</td>\n",
       "      <td>1993-06-03T00:00:00</td>\n",
       "    </tr>\n",
       "    <tr>\n",
       "      <th>4</th>\n",
       "      <td>20000452</td>\n",
       "      <td>Garrett</td>\n",
       "      <td>Temple</td>\n",
       "      <td>77</td>\n",
       "      <td>195</td>\n",
       "      <td>BKN</td>\n",
       "      <td>1986-05-08T00:00:00</td>\n",
       "    </tr>\n",
       "  </tbody>\n",
       "</table>\n",
       "</div>"
      ],
      "text/plain": [
       "   PlayerID FirstName LastName  Height  Weight Team            BirthDate\n",
       "0  20000439      Nene  Hilario      83     250  HOU  1982-09-13T00:00:00\n",
       "1  20000441   Bradley     Beal      75     207  WAS  1993-06-28T00:00:00\n",
       "2  20000442      John     Wall      76     210  WAS  1990-09-06T00:00:00\n",
       "3  20000443      Otto   Porter      80     198  CHI  1993-06-03T00:00:00\n",
       "4  20000452   Garrett   Temple      77     195  BKN  1986-05-08T00:00:00"
      ]
     },
     "execution_count": 37,
     "metadata": {},
     "output_type": "execute_result"
    }
   ],
   "source": [
    "needed_columns = [\"PlayerID\",\"FirstName\",\"LastName\",\"Height\",\"Weight\",\"Team\",\"BirthDate\"]\n",
    "df_players_table = df_playersData_api[needed_columns]\n",
    "df_players_table.head()"
   ]
  },
  {
   "cell_type": "code",
   "execution_count": 38,
   "metadata": {},
   "outputs": [
    {
     "data": {
      "text/html": [
       "<div>\n",
       "<style scoped>\n",
       "    .dataframe tbody tr th:only-of-type {\n",
       "        vertical-align: middle;\n",
       "    }\n",
       "\n",
       "    .dataframe tbody tr th {\n",
       "        vertical-align: top;\n",
       "    }\n",
       "\n",
       "    .dataframe thead th {\n",
       "        text-align: right;\n",
       "    }\n",
       "</style>\n",
       "<table border=\"1\" class=\"dataframe\">\n",
       "  <thead>\n",
       "    <tr style=\"text-align: right;\">\n",
       "      <th></th>\n",
       "      <th>0</th>\n",
       "      <th>1</th>\n",
       "    </tr>\n",
       "  </thead>\n",
       "  <tbody>\n",
       "    <tr>\n",
       "      <th>0</th>\n",
       "      <td>Abbreviation/Acronym</td>\n",
       "      <td>Franchise</td>\n",
       "    </tr>\n",
       "    <tr>\n",
       "      <th>1</th>\n",
       "      <td>ATL</td>\n",
       "      <td>Atlanta Hawks</td>\n",
       "    </tr>\n",
       "    <tr>\n",
       "      <th>2</th>\n",
       "      <td>BKN</td>\n",
       "      <td>Brooklyn Nets</td>\n",
       "    </tr>\n",
       "    <tr>\n",
       "      <th>3</th>\n",
       "      <td>BOS</td>\n",
       "      <td>Boston Celtics</td>\n",
       "    </tr>\n",
       "    <tr>\n",
       "      <th>4</th>\n",
       "      <td>CHA</td>\n",
       "      <td>Charlotte Hornets</td>\n",
       "    </tr>\n",
       "  </tbody>\n",
       "</table>\n",
       "</div>"
      ],
      "text/plain": [
       "                      0                  1\n",
       "0  Abbreviation/Acronym          Franchise\n",
       "1                   ATL      Atlanta Hawks\n",
       "2                   BKN      Brooklyn Nets\n",
       "3                   BOS     Boston Celtics\n",
       "4                   CHA  Charlotte Hornets"
      ]
     },
     "execution_count": 38,
     "metadata": {},
     "output_type": "execute_result"
    }
   ],
   "source": [
    "url_wiki = \"https://en.wikipedia.org/wiki/Wikipedia:WikiProject_National_Basketball_Association/National_Basketball_Association_team_abbreviations\"\n",
    "r = requests.get(url_wiki)\n",
    "soup = BeautifulSoup(r.text, 'lxml')\n",
    "table = soup.find_all(\"table\")\n",
    "df_teams = pd.read_html(str(table))[0]\n",
    "df_teams.head()"
   ]
  },
  {
   "cell_type": "code",
   "execution_count": 39,
   "metadata": {},
   "outputs": [
    {
     "data": {
      "text/html": [
       "<div>\n",
       "<style scoped>\n",
       "    .dataframe tbody tr th:only-of-type {\n",
       "        vertical-align: middle;\n",
       "    }\n",
       "\n",
       "    .dataframe tbody tr th {\n",
       "        vertical-align: top;\n",
       "    }\n",
       "\n",
       "    .dataframe thead th {\n",
       "        text-align: right;\n",
       "    }\n",
       "</style>\n",
       "<table border=\"1\" class=\"dataframe\">\n",
       "  <thead>\n",
       "    <tr style=\"text-align: right;\">\n",
       "      <th></th>\n",
       "      <th>abbrevation</th>\n",
       "      <th>teamName</th>\n",
       "    </tr>\n",
       "  </thead>\n",
       "  <tbody>\n",
       "    <tr>\n",
       "      <th>1</th>\n",
       "      <td>ATL</td>\n",
       "      <td>Atlanta Hawks</td>\n",
       "    </tr>\n",
       "    <tr>\n",
       "      <th>2</th>\n",
       "      <td>BKN</td>\n",
       "      <td>Brooklyn Nets</td>\n",
       "    </tr>\n",
       "    <tr>\n",
       "      <th>3</th>\n",
       "      <td>BOS</td>\n",
       "      <td>Boston Celtics</td>\n",
       "    </tr>\n",
       "    <tr>\n",
       "      <th>4</th>\n",
       "      <td>CHA</td>\n",
       "      <td>Charlotte Hornets</td>\n",
       "    </tr>\n",
       "    <tr>\n",
       "      <th>5</th>\n",
       "      <td>CHI</td>\n",
       "      <td>Chicago Bulls</td>\n",
       "    </tr>\n",
       "  </tbody>\n",
       "</table>\n",
       "</div>"
      ],
      "text/plain": [
       "  abbrevation           teamName\n",
       "1         ATL      Atlanta Hawks\n",
       "2         BKN      Brooklyn Nets\n",
       "3         BOS     Boston Celtics\n",
       "4         CHA  Charlotte Hornets\n",
       "5         CHI      Chicago Bulls"
      ]
     },
     "execution_count": 39,
     "metadata": {},
     "output_type": "execute_result"
    }
   ],
   "source": [
    "# deleting first row becoz not relavent\n",
    "df_teams.drop(df_teams.head(1).index, inplace=True)\n",
    "df_teams.columns = df_teams.columns.map(str)\n",
    "df_teams = df_teams.rename(columns={\"0\": \"abbrevation\", \"1\": \"teamName\"})\n",
    "df_teams.head()"
   ]
  },
  {
   "cell_type": "code",
   "execution_count": 40,
   "metadata": {},
   "outputs": [
    {
     "data": {
      "text/html": [
       "<div>\n",
       "<style scoped>\n",
       "    .dataframe tbody tr th:only-of-type {\n",
       "        vertical-align: middle;\n",
       "    }\n",
       "\n",
       "    .dataframe tbody tr th {\n",
       "        vertical-align: top;\n",
       "    }\n",
       "\n",
       "    .dataframe thead th {\n",
       "        text-align: right;\n",
       "    }\n",
       "</style>\n",
       "<table border=\"1\" class=\"dataframe\">\n",
       "  <thead>\n",
       "    <tr style=\"text-align: right;\">\n",
       "      <th></th>\n",
       "      <th>abbrevation</th>\n",
       "      <th>teamName</th>\n",
       "    </tr>\n",
       "  </thead>\n",
       "  <tbody>\n",
       "    <tr>\n",
       "      <th>1</th>\n",
       "      <td>ATL</td>\n",
       "      <td>Atlanta Hawks</td>\n",
       "    </tr>\n",
       "    <tr>\n",
       "      <th>2</th>\n",
       "      <td>BKN</td>\n",
       "      <td>Brooklyn Nets</td>\n",
       "    </tr>\n",
       "    <tr>\n",
       "      <th>3</th>\n",
       "      <td>BOS</td>\n",
       "      <td>Boston Celtics</td>\n",
       "    </tr>\n",
       "    <tr>\n",
       "      <th>4</th>\n",
       "      <td>CHA</td>\n",
       "      <td>Charlotte Hornets</td>\n",
       "    </tr>\n",
       "    <tr>\n",
       "      <th>5</th>\n",
       "      <td>CHI</td>\n",
       "      <td>Chicago Bulls</td>\n",
       "    </tr>\n",
       "  </tbody>\n",
       "</table>\n",
       "</div>"
      ],
      "text/plain": [
       "  abbrevation           teamName\n",
       "1         ATL      Atlanta Hawks\n",
       "2         BKN      Brooklyn Nets\n",
       "3         BOS     Boston Celtics\n",
       "4         CHA  Charlotte Hornets\n",
       "5         CHI      Chicago Bulls"
      ]
     },
     "execution_count": 40,
     "metadata": {},
     "output_type": "execute_result"
    }
   ],
   "source": [
    "df_teams.head()"
   ]
  },
  {
   "cell_type": "code",
   "execution_count": 41,
   "metadata": {},
   "outputs": [
    {
     "data": {
      "text/plain": [
       "Index(['SCORING', 'GP', 'GS', 'MPG', 'PPG', 'PTS/48', 'PTS', 'FGM/G', 'FGA/G',\n",
       "       'FG%', '3FGM/G', '3FGA/G', '3FG%', 'FTM/G', 'FTA/G', 'FT%', 'HIGH',\n",
       "       'PPS'],\n",
       "      dtype='object')"
      ]
     },
     "execution_count": 41,
     "metadata": {},
     "output_type": "execute_result"
    }
   ],
   "source": [
    "df_all_data_from_scraping.columns"
   ]
  },
  {
   "cell_type": "code",
   "execution_count": 42,
   "metadata": {},
   "outputs": [
    {
     "data": {
      "text/html": [
       "<div>\n",
       "<style scoped>\n",
       "    .dataframe tbody tr th:only-of-type {\n",
       "        vertical-align: middle;\n",
       "    }\n",
       "\n",
       "    .dataframe tbody tr th {\n",
       "        vertical-align: top;\n",
       "    }\n",
       "\n",
       "    .dataframe thead th {\n",
       "        text-align: right;\n",
       "    }\n",
       "</style>\n",
       "<table border=\"1\" class=\"dataframe\">\n",
       "  <thead>\n",
       "    <tr style=\"text-align: right;\">\n",
       "      <th></th>\n",
       "      <th>SCORING</th>\n",
       "      <th>GP</th>\n",
       "      <th>GS</th>\n",
       "      <th>MPG</th>\n",
       "      <th>PPG</th>\n",
       "      <th>PPS</th>\n",
       "      <th>HIGH</th>\n",
       "    </tr>\n",
       "  </thead>\n",
       "  <tbody>\n",
       "    <tr>\n",
       "      <th>0</th>\n",
       "      <td>1 Embiid, Joel Embiid, J. C</td>\n",
       "      <td>34</td>\n",
       "      <td>34</td>\n",
       "      <td>30.8</td>\n",
       "      <td>23</td>\n",
       "      <td>1.44</td>\n",
       "      <td>38</td>\n",
       "    </tr>\n",
       "    <tr>\n",
       "      <th>1</th>\n",
       "      <td>2 Harris, Tobias Harris, T. SF</td>\n",
       "      <td>50</td>\n",
       "      <td>50</td>\n",
       "      <td>34.4</td>\n",
       "      <td>19.3</td>\n",
       "      <td>1.23</td>\n",
       "      <td>35</td>\n",
       "    </tr>\n",
       "    <tr>\n",
       "      <th>2</th>\n",
       "      <td>3 Simmons, Ben Simmons, B. PG</td>\n",
       "      <td>48</td>\n",
       "      <td>48</td>\n",
       "      <td>36.2</td>\n",
       "      <td>16.7</td>\n",
       "      <td>1.45</td>\n",
       "      <td>34</td>\n",
       "    </tr>\n",
       "    <tr>\n",
       "      <th>3</th>\n",
       "      <td>4 Richardson, Josh Richardson, J. SG</td>\n",
       "      <td>38</td>\n",
       "      <td>38</td>\n",
       "      <td>31.5</td>\n",
       "      <td>15</td>\n",
       "      <td>1.19</td>\n",
       "      <td>32</td>\n",
       "    </tr>\n",
       "    <tr>\n",
       "      <th>4</th>\n",
       "      <td>5 Horford, Al Horford, A. C</td>\n",
       "      <td>45</td>\n",
       "      <td>45</td>\n",
       "      <td>31.1</td>\n",
       "      <td>12.5</td>\n",
       "      <td>1.1</td>\n",
       "      <td>32</td>\n",
       "    </tr>\n",
       "  </tbody>\n",
       "</table>\n",
       "</div>"
      ],
      "text/plain": [
       "                                SCORING  GP  GS   MPG   PPG   PPS  HIGH\n",
       "0           1 Embiid, Joel Embiid, J. C  34  34  30.8    23  1.44    38\n",
       "1        2 Harris, Tobias Harris, T. SF  50  50  34.4  19.3  1.23    35\n",
       "2         3 Simmons, Ben Simmons, B. PG  48  48  36.2  16.7  1.45    34\n",
       "3  4 Richardson, Josh Richardson, J. SG  38  38  31.5    15  1.19    32\n",
       "4           5 Horford, Al Horford, A. C  45  45  31.1  12.5   1.1    32"
      ]
     },
     "execution_count": 42,
     "metadata": {},
     "output_type": "execute_result"
    }
   ],
   "source": [
    "needed_columns_stats = ['SCORING','GP','GS','MPG','PPG','PPS','HIGH']\n",
    "df_Player_Stats = df_all_data_from_scraping[needed_columns_stats]\n",
    "df_Player_Stats.head()"
   ]
  },
  {
   "cell_type": "code",
   "execution_count": 43,
   "metadata": {},
   "outputs": [
    {
     "data": {
      "text/html": [
       "<div>\n",
       "<style scoped>\n",
       "    .dataframe tbody tr th:only-of-type {\n",
       "        vertical-align: middle;\n",
       "    }\n",
       "\n",
       "    .dataframe tbody tr th {\n",
       "        vertical-align: top;\n",
       "    }\n",
       "\n",
       "    .dataframe thead th {\n",
       "        text-align: right;\n",
       "    }\n",
       "</style>\n",
       "<table border=\"1\" class=\"dataframe\">\n",
       "  <thead>\n",
       "    <tr style=\"text-align: right;\">\n",
       "      <th></th>\n",
       "      <th>SCORING</th>\n",
       "      <th>GP</th>\n",
       "      <th>PPG</th>\n",
       "      <th>PPG ALLOW</th>\n",
       "      <th>PPG DIFF</th>\n",
       "      <th>PTS OFF TO</th>\n",
       "      <th>PTS IN PAINT</th>\n",
       "      <th>SEC CHANCE PTS</th>\n",
       "      <th>FG%</th>\n",
       "      <th>FG% ALLOW</th>\n",
       "      <th>3FG%</th>\n",
       "      <th>3FG% ALLOW</th>\n",
       "      <th>FT%</th>\n",
       "      <th>FT% ALLOW</th>\n",
       "      <th>PPS</th>\n",
       "      <th>PTS/POSS</th>\n",
       "    </tr>\n",
       "  </thead>\n",
       "  <tbody>\n",
       "    <tr>\n",
       "      <th>0</th>\n",
       "      <td>1 Milwaukee MIL</td>\n",
       "      <td>49</td>\n",
       "      <td>120.0</td>\n",
       "      <td>107.6</td>\n",
       "      <td>12.4</td>\n",
       "      <td>831</td>\n",
       "      <td>2512</td>\n",
       "      <td>634</td>\n",
       "      <td>0.484</td>\n",
       "      <td>0.411</td>\n",
       "      <td>0.361</td>\n",
       "      <td>0.363</td>\n",
       "      <td>0.729</td>\n",
       "      <td>0.786</td>\n",
       "      <td>1.32</td>\n",
       "      <td>1.14</td>\n",
       "    </tr>\n",
       "    <tr>\n",
       "      <th>1</th>\n",
       "      <td>2 Houston HOU</td>\n",
       "      <td>49</td>\n",
       "      <td>118.7</td>\n",
       "      <td>114.6</td>\n",
       "      <td>4.1</td>\n",
       "      <td>889</td>\n",
       "      <td>2332</td>\n",
       "      <td>642</td>\n",
       "      <td>0.453</td>\n",
       "      <td>0.459</td>\n",
       "      <td>0.348</td>\n",
       "      <td>0.346</td>\n",
       "      <td>0.782</td>\n",
       "      <td>0.760</td>\n",
       "      <td>1.30</td>\n",
       "      <td>1.14</td>\n",
       "    </tr>\n",
       "    <tr>\n",
       "      <th>2</th>\n",
       "      <td>3 Dallas DAL</td>\n",
       "      <td>49</td>\n",
       "      <td>116.4</td>\n",
       "      <td>110.2</td>\n",
       "      <td>6.2</td>\n",
       "      <td>738</td>\n",
       "      <td>2216</td>\n",
       "      <td>730</td>\n",
       "      <td>0.462</td>\n",
       "      <td>0.451</td>\n",
       "      <td>0.366</td>\n",
       "      <td>0.345</td>\n",
       "      <td>0.769</td>\n",
       "      <td>0.773</td>\n",
       "      <td>1.29</td>\n",
       "      <td>1.17</td>\n",
       "    </tr>\n",
       "    <tr>\n",
       "      <th>3</th>\n",
       "      <td>4 Washington WAS</td>\n",
       "      <td>48</td>\n",
       "      <td>115.7</td>\n",
       "      <td>120.7</td>\n",
       "      <td>-5.0</td>\n",
       "      <td>864</td>\n",
       "      <td>2274</td>\n",
       "      <td>707</td>\n",
       "      <td>0.463</td>\n",
       "      <td>0.489</td>\n",
       "      <td>0.364</td>\n",
       "      <td>0.373</td>\n",
       "      <td>0.782</td>\n",
       "      <td>0.782</td>\n",
       "      <td>1.26</td>\n",
       "      <td>1.12</td>\n",
       "    </tr>\n",
       "    <tr>\n",
       "      <th>4</th>\n",
       "      <td>5 Los Angeles LAC</td>\n",
       "      <td>49</td>\n",
       "      <td>115.4</td>\n",
       "      <td>109.5</td>\n",
       "      <td>5.9</td>\n",
       "      <td>881</td>\n",
       "      <td>2412</td>\n",
       "      <td>733</td>\n",
       "      <td>0.461</td>\n",
       "      <td>0.436</td>\n",
       "      <td>0.361</td>\n",
       "      <td>0.340</td>\n",
       "      <td>0.786</td>\n",
       "      <td>0.765</td>\n",
       "      <td>1.28</td>\n",
       "      <td>1.13</td>\n",
       "    </tr>\n",
       "  </tbody>\n",
       "</table>\n",
       "</div>"
      ],
      "text/plain": [
       "             SCORING  GP    PPG  PPG ALLOW  PPG DIFF  PTS OFF TO  \\\n",
       "0    1 Milwaukee MIL  49  120.0      107.6      12.4         831   \n",
       "1      2 Houston HOU  49  118.7      114.6       4.1         889   \n",
       "2       3 Dallas DAL  49  116.4      110.2       6.2         738   \n",
       "3   4 Washington WAS  48  115.7      120.7      -5.0         864   \n",
       "4  5 Los Angeles LAC  49  115.4      109.5       5.9         881   \n",
       "\n",
       "   PTS IN PAINT  SEC CHANCE PTS    FG%  FG% ALLOW   3FG%  3FG% ALLOW    FT%  \\\n",
       "0          2512             634  0.484      0.411  0.361       0.363  0.729   \n",
       "1          2332             642  0.453      0.459  0.348       0.346  0.782   \n",
       "2          2216             730  0.462      0.451  0.366       0.345  0.769   \n",
       "3          2274             707  0.463      0.489  0.364       0.373  0.782   \n",
       "4          2412             733  0.461      0.436  0.361       0.340  0.786   \n",
       "\n",
       "   FT% ALLOW   PPS  PTS/POSS  \n",
       "0      0.786  1.32      1.14  \n",
       "1      0.760  1.30      1.14  \n",
       "2      0.773  1.29      1.17  \n",
       "3      0.782  1.26      1.12  \n",
       "4      0.765  1.28      1.13  "
      ]
     },
     "execution_count": 43,
     "metadata": {},
     "output_type": "execute_result"
    }
   ],
   "source": [
    "## scapper for team stats\n",
    "def nba_team_stats_scraper(url):\n",
    "    r = requests.get(url)\n",
    "    soup = BeautifulSoup(r.text, 'lxml')\n",
    "    table = soup.find_all(\"table\",{\"class\": \"wisbb_standardTable\"})\n",
    "    return pd.read_html(str(table))[0]\n",
    "\n",
    "url_team_stats = \"https://www.foxsports.com/nba/team-stats?season=2019&category=scoring&group=1&sort=1&time=0\"\n",
    "df_team_stats = nba_team_stats_scraper(url_team_stats)\n",
    "df_team_stats.head()"
   ]
  },
  {
   "cell_type": "code",
   "execution_count": 44,
   "metadata": {},
   "outputs": [
    {
     "data": {
      "text/plain": [
       "Index(['SCORING', 'GP', 'PPG', 'PPG ALLOW', 'PPG DIFF', 'PTS OFF TO',\n",
       "       'PTS IN PAINT', 'SEC CHANCE PTS', 'FG%', 'FG% ALLOW', '3FG%',\n",
       "       '3FG% ALLOW', 'FT%', 'FT% ALLOW', 'PPS', 'PTS/POSS'],\n",
       "      dtype='object')"
      ]
     },
     "execution_count": 44,
     "metadata": {},
     "output_type": "execute_result"
    }
   ],
   "source": [
    "df_team_stats.columns"
   ]
  },
  {
   "cell_type": "code",
   "execution_count": 45,
   "metadata": {},
   "outputs": [
    {
     "data": {
      "text/html": [
       "<div>\n",
       "<style scoped>\n",
       "    .dataframe tbody tr th:only-of-type {\n",
       "        vertical-align: middle;\n",
       "    }\n",
       "\n",
       "    .dataframe tbody tr th {\n",
       "        vertical-align: top;\n",
       "    }\n",
       "\n",
       "    .dataframe thead th {\n",
       "        text-align: right;\n",
       "    }\n",
       "</style>\n",
       "<table border=\"1\" class=\"dataframe\">\n",
       "  <thead>\n",
       "    <tr style=\"text-align: right;\">\n",
       "      <th></th>\n",
       "      <th>SCORING</th>\n",
       "      <th>GP</th>\n",
       "      <th>PPG</th>\n",
       "      <th>PPS</th>\n",
       "      <th>PTS/POSS</th>\n",
       "    </tr>\n",
       "  </thead>\n",
       "  <tbody>\n",
       "    <tr>\n",
       "      <th>0</th>\n",
       "      <td>1 Milwaukee MIL</td>\n",
       "      <td>49</td>\n",
       "      <td>120.0</td>\n",
       "      <td>1.32</td>\n",
       "      <td>1.14</td>\n",
       "    </tr>\n",
       "    <tr>\n",
       "      <th>1</th>\n",
       "      <td>2 Houston HOU</td>\n",
       "      <td>49</td>\n",
       "      <td>118.7</td>\n",
       "      <td>1.30</td>\n",
       "      <td>1.14</td>\n",
       "    </tr>\n",
       "    <tr>\n",
       "      <th>2</th>\n",
       "      <td>3 Dallas DAL</td>\n",
       "      <td>49</td>\n",
       "      <td>116.4</td>\n",
       "      <td>1.29</td>\n",
       "      <td>1.17</td>\n",
       "    </tr>\n",
       "    <tr>\n",
       "      <th>3</th>\n",
       "      <td>4 Washington WAS</td>\n",
       "      <td>48</td>\n",
       "      <td>115.7</td>\n",
       "      <td>1.26</td>\n",
       "      <td>1.12</td>\n",
       "    </tr>\n",
       "    <tr>\n",
       "      <th>4</th>\n",
       "      <td>5 Los Angeles LAC</td>\n",
       "      <td>49</td>\n",
       "      <td>115.4</td>\n",
       "      <td>1.28</td>\n",
       "      <td>1.13</td>\n",
       "    </tr>\n",
       "  </tbody>\n",
       "</table>\n",
       "</div>"
      ],
      "text/plain": [
       "             SCORING  GP    PPG   PPS  PTS/POSS\n",
       "0    1 Milwaukee MIL  49  120.0  1.32      1.14\n",
       "1      2 Houston HOU  49  118.7  1.30      1.14\n",
       "2       3 Dallas DAL  49  116.4  1.29      1.17\n",
       "3   4 Washington WAS  48  115.7  1.26      1.12\n",
       "4  5 Los Angeles LAC  49  115.4  1.28      1.13"
      ]
     },
     "execution_count": 45,
     "metadata": {},
     "output_type": "execute_result"
    }
   ],
   "source": [
    "needed_columns_stats = ['SCORING','GP','PPG','PPS','PTS/POSS']\n",
    "df_team_stats_needed = df_team_stats[needed_columns_stats]\n",
    "df_team_stats_needed.head()"
   ]
  },
  {
   "cell_type": "markdown",
   "metadata": {},
   "source": [
    "### Generating CSV files (Exporting the files to the PC)"
   ]
  },
  {
   "cell_type": "code",
   "execution_count": 46,
   "metadata": {},
   "outputs": [],
   "source": [
    "df_players_table.to_csv(\"PlayersTable.csv\",encoding=\"utf-8\",index=False)"
   ]
  },
  {
   "cell_type": "code",
   "execution_count": 47,
   "metadata": {},
   "outputs": [],
   "source": [
    "df_Player_Stats.to_csv(\"PlayersStats.csv\",encoding=\"utf-8\",index=False)"
   ]
  },
  {
   "cell_type": "code",
   "execution_count": 48,
   "metadata": {},
   "outputs": [],
   "source": [
    "df_teams.to_csv(\"Teams.csv\",encoding=\"utf-8\",index=False)"
   ]
  },
  {
   "cell_type": "code",
   "execution_count": 49,
   "metadata": {},
   "outputs": [],
   "source": [
    "df_team_stats_needed.to_csv(\"TeamsStats.csv\",encoding=\"utf-8\",index=False)"
   ]
  },
  {
   "cell_type": "markdown",
   "metadata": {},
   "source": [
    "### AUDIT VALIDITY/ACCURACY"
   ]
  },
  {
   "cell_type": "markdown",
   "metadata": {},
   "source": [
    "We say data is accurate only when it is neat and with no junk values. By using various commands like drop, del and lambda functions, all the unwanted junk values were deleted from the above rows and columns which gives valid and accuarate data report."
   ]
  },
  {
   "cell_type": "markdown",
   "metadata": {},
   "source": [
    "### AUDIT COMPLETNESS"
   ]
  },
  {
   "cell_type": "markdown",
   "metadata": {},
   "source": [
    "In real world, when a list of teams stats, player stats, player information, team information from a particular Player or Team or season is requested, a list of it will be displayed or presented, similarly when we compare it with above data too, we get proper real time data showing correct information for all the Matches played by teams/players.  This can be extended for multiple seasons like which team is popular in that season."
   ]
  },
  {
   "cell_type": "markdown",
   "metadata": {},
   "source": [
    "### AUDIT CONSISTENCY/UNIFORMITY\n"
   ]
  },
  {
   "cell_type": "markdown",
   "metadata": {},
   "source": [
    "The datasets which have been used in this assignment show a uniform relationship between each of the dataset since they are linked to each other by a common attribute. "
   ]
  },
  {
   "cell_type": "markdown",
   "metadata": {},
   "source": [
    "### REPORT"
   ]
  },
  {
   "cell_type": "markdown",
   "metadata": {},
   "source": [
    "Csv fies used : \n",
    "1. all_seasons.csv                                                                         \n",
    "\n",
    "Files genearted: \n",
    "1. PlayersTable.csv\n",
    "2. Teams.csv\n",
    "3. PlayersStats.csv\n",
    "4. TeamStats.csv\n",
    "\n",
    "Functions Created: \n",
    "1. nba_player_stats_scraper\n",
    "2. get_teams\n",
    "3. get_all_teams_data_scrapper\n",
    "4. get_all_players_data_scrapper\n",
    "5. nba_team_stats_scraper\n",
    "\n",
    "\n",
    "Data is reformatted to fit into a conceptual model. \n",
    "Data gathered from different sources Web API, Web scraping, Raw file (from kaggle datasets) and are used to fit into a conceptual model.                                              \n",
    "\n",
    "Code used:                                                                                                 \n",
    "Step 1. Extraction of Data                                                                                    \n",
    "3 main methods were used for the extraction of data:   \n",
    "\n",
    "1. Using the API:                                                                                             \n",
    "Here the API key for the site was used and libraries like:\n",
    "request to access the website using the URL (https://api.sportsdata.io) and API key ('')                      \n",
    "json to convert the file into json format                                                                      \n",
    "pandas to create data frames from the raw data  \n",
    "\n",
    "2. Using the website to scrap the data                                                                       \n",
    "Here the data was extracted using the sites data directly using the libraries like:                               \n",
    "request to access the website using the URL (https://www.foxsports.com)                       \n",
    "BeautifulSoup to scrape the contents of the website                                                          \n",
    "find() and find_all() methods were used to find the desired content in the system \n",
    "used dynamic links to scrape all the data contained in 28 pages of the website\n",
    "\n",
    "3. By loading the csv file:                                                                                  \n",
    "Here the data was extracted using a csv file on the system using the libraries like:                            \n",
    "Pandas to a read the csv file and load it into data frames                                                    \n",
    "read_csv method is used to read .csv file    \n",
    "\n",
    "Step 2. Cleaning and Auditing Data                                                                             \n",
    "To gain knowledge about the dataset we used various methods like                                                  \n",
    "describe, isnull, any, shape, columns, is_unique, info, iloc, loc, os"
   ]
  },
  {
   "cell_type": "markdown",
   "metadata": {},
   "source": [
    "### CONCLUSION                                                                                                                                                                   \n",
    "Primary focus of this assignment is to learn how to get the data from different sources, cleaning of data, checking null values present in the data, data munging and to reformat the data to fit a conceptual database model."
   ]
  },
  {
   "cell_type": "code",
   "execution_count": null,
   "metadata": {},
   "outputs": [],
   "source": []
  }
 ],
 "metadata": {
  "kernelspec": {
   "display_name": "Python 3",
   "language": "python",
   "name": "python3"
  },
  "language_info": {
   "codemirror_mode": {
    "name": "ipython",
    "version": 3
   },
   "file_extension": ".py",
   "mimetype": "text/x-python",
   "name": "python",
   "nbconvert_exporter": "python",
   "pygments_lexer": "ipython3",
   "version": "3.7.3"
  }
 },
 "nbformat": 4,
 "nbformat_minor": 2
}
