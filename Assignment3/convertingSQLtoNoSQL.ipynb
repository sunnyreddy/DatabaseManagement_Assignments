{
 "cells": [
  {
   "cell_type": "markdown",
   "metadata": {},
   "source": [
    "# ABSTRACT\n",
    "\n",
    "We are working on a NBA and trying to build a NoSQL database. So We will be extracting data from 3 diffrent data sources and then will be using them together to create a consistent database.(these part has been done in previous assignments and stored in sql database) We will perform several operations over the dataset extracted to make the data clean and error free and consistent. After that we will be developing a database from using the extracted source data and display."
   ]
  },
  {
   "cell_type": "markdown",
   "metadata": {},
   "source": [
    "# First task is to migrate our data we collected in previous assignments to build sql databse to no sql database\n",
    "\n",
    "## Importing Libraries necessary"
   ]
  },
  {
   "cell_type": "code",
   "execution_count": 5,
   "metadata": {
    "scrolled": true
   },
   "outputs": [],
   "source": [
    "import pandas as pd\n",
    "import json\n",
    "import requests"
   ]
  },
  {
   "cell_type": "markdown",
   "metadata": {},
   "source": [
    "# Migrating data to mongoDB\n",
    "## Populating the mongoDB database with data we got in previous assignments"
   ]
  },
  {
   "cell_type": "code",
   "execution_count": 6,
   "metadata": {},
   "outputs": [
    {
     "data": {
      "text/html": [
       "<div>\n",
       "<style scoped>\n",
       "    .dataframe tbody tr th:only-of-type {\n",
       "        vertical-align: middle;\n",
       "    }\n",
       "\n",
       "    .dataframe tbody tr th {\n",
       "        vertical-align: top;\n",
       "    }\n",
       "\n",
       "    .dataframe thead th {\n",
       "        text-align: right;\n",
       "    }\n",
       "</style>\n",
       "<table border=\"1\" class=\"dataframe\">\n",
       "  <thead>\n",
       "    <tr style=\"text-align: right;\">\n",
       "      <th></th>\n",
       "      <th>PlayerID</th>\n",
       "      <th>FirstName</th>\n",
       "      <th>LastName</th>\n",
       "      <th>Height</th>\n",
       "      <th>Weight</th>\n",
       "      <th>Team</th>\n",
       "      <th>BirthDate</th>\n",
       "    </tr>\n",
       "  </thead>\n",
       "  <tbody>\n",
       "    <tr>\n",
       "      <th>0</th>\n",
       "      <td>20000439</td>\n",
       "      <td>Nene</td>\n",
       "      <td>Hilario</td>\n",
       "      <td>83</td>\n",
       "      <td>250</td>\n",
       "      <td>HOU</td>\n",
       "      <td>1982-09-13T00:00:00</td>\n",
       "    </tr>\n",
       "    <tr>\n",
       "      <th>1</th>\n",
       "      <td>20000441</td>\n",
       "      <td>Bradley</td>\n",
       "      <td>Beal</td>\n",
       "      <td>75</td>\n",
       "      <td>207</td>\n",
       "      <td>WAS</td>\n",
       "      <td>1993-06-28T00:00:00</td>\n",
       "    </tr>\n",
       "    <tr>\n",
       "      <th>2</th>\n",
       "      <td>20000442</td>\n",
       "      <td>John</td>\n",
       "      <td>Wall</td>\n",
       "      <td>76</td>\n",
       "      <td>210</td>\n",
       "      <td>WAS</td>\n",
       "      <td>1990-09-06T00:00:00</td>\n",
       "    </tr>\n",
       "    <tr>\n",
       "      <th>3</th>\n",
       "      <td>20000443</td>\n",
       "      <td>Otto</td>\n",
       "      <td>Porter</td>\n",
       "      <td>80</td>\n",
       "      <td>198</td>\n",
       "      <td>CHI</td>\n",
       "      <td>1993-06-03T00:00:00</td>\n",
       "    </tr>\n",
       "    <tr>\n",
       "      <th>4</th>\n",
       "      <td>20000452</td>\n",
       "      <td>Garrett</td>\n",
       "      <td>Temple</td>\n",
       "      <td>77</td>\n",
       "      <td>195</td>\n",
       "      <td>BKN</td>\n",
       "      <td>1986-05-08T00:00:00</td>\n",
       "    </tr>\n",
       "  </tbody>\n",
       "</table>\n",
       "</div>"
      ],
      "text/plain": [
       "   PlayerID FirstName LastName  Height  Weight Team            BirthDate\n",
       "0  20000439      Nene  Hilario      83     250  HOU  1982-09-13T00:00:00\n",
       "1  20000441   Bradley     Beal      75     207  WAS  1993-06-28T00:00:00\n",
       "2  20000442      John     Wall      76     210  WAS  1990-09-06T00:00:00\n",
       "3  20000443      Otto   Porter      80     198  CHI  1993-06-03T00:00:00\n",
       "4  20000452   Garrett   Temple      77     195  BKN  1986-05-08T00:00:00"
      ]
     },
     "execution_count": 6,
     "metadata": {},
     "output_type": "execute_result"
    }
   ],
   "source": [
    "# bring the data from previous assignments\n",
    "players = pd.read_csv('./data/Players.csv')\n",
    "teams = pd.read_csv('./data/Teams.csv')\n",
    "player_statistics = pd.read_csv('./data/PlayersStats.csv')\n",
    "team_statistics = pd.read_csv('./data/TeamsStats.csv')\n",
    "\n",
    "players.head()"
   ]
  },
  {
   "cell_type": "code",
   "execution_count": 7,
   "metadata": {},
   "outputs": [
    {
     "data": {
      "text/html": [
       "<div>\n",
       "<style scoped>\n",
       "    .dataframe tbody tr th:only-of-type {\n",
       "        vertical-align: middle;\n",
       "    }\n",
       "\n",
       "    .dataframe tbody tr th {\n",
       "        vertical-align: top;\n",
       "    }\n",
       "\n",
       "    .dataframe thead th {\n",
       "        text-align: right;\n",
       "    }\n",
       "</style>\n",
       "<table border=\"1\" class=\"dataframe\">\n",
       "  <thead>\n",
       "    <tr style=\"text-align: right;\">\n",
       "      <th></th>\n",
       "      <th>SCORING</th>\n",
       "      <th>GP</th>\n",
       "      <th>GS</th>\n",
       "      <th>MPG</th>\n",
       "      <th>PPG</th>\n",
       "      <th>PPS</th>\n",
       "      <th>HIGH</th>\n",
       "    </tr>\n",
       "  </thead>\n",
       "  <tbody>\n",
       "    <tr>\n",
       "      <th>0</th>\n",
       "      <td>1 Embiid, Joel Embiid, J. C</td>\n",
       "      <td>34</td>\n",
       "      <td>34</td>\n",
       "      <td>30.8</td>\n",
       "      <td>23.0</td>\n",
       "      <td>1.44</td>\n",
       "      <td>38</td>\n",
       "    </tr>\n",
       "    <tr>\n",
       "      <th>1</th>\n",
       "      <td>2 Harris, Tobias Harris, T. SF</td>\n",
       "      <td>50</td>\n",
       "      <td>50</td>\n",
       "      <td>34.4</td>\n",
       "      <td>19.3</td>\n",
       "      <td>1.23</td>\n",
       "      <td>35</td>\n",
       "    </tr>\n",
       "    <tr>\n",
       "      <th>2</th>\n",
       "      <td>3 Simmons, Ben Simmons, B. PG</td>\n",
       "      <td>48</td>\n",
       "      <td>48</td>\n",
       "      <td>36.2</td>\n",
       "      <td>16.7</td>\n",
       "      <td>1.45</td>\n",
       "      <td>34</td>\n",
       "    </tr>\n",
       "    <tr>\n",
       "      <th>3</th>\n",
       "      <td>4 Richardson, Josh Richardson, J. SG</td>\n",
       "      <td>38</td>\n",
       "      <td>38</td>\n",
       "      <td>31.5</td>\n",
       "      <td>15.0</td>\n",
       "      <td>1.19</td>\n",
       "      <td>32</td>\n",
       "    </tr>\n",
       "    <tr>\n",
       "      <th>4</th>\n",
       "      <td>5 Horford, Al Horford, A. C</td>\n",
       "      <td>45</td>\n",
       "      <td>45</td>\n",
       "      <td>31.1</td>\n",
       "      <td>12.5</td>\n",
       "      <td>1.1</td>\n",
       "      <td>32</td>\n",
       "    </tr>\n",
       "  </tbody>\n",
       "</table>\n",
       "</div>"
      ],
      "text/plain": [
       "                                SCORING  GP  GS   MPG   PPG   PPS  HIGH\n",
       "0           1 Embiid, Joel Embiid, J. C  34  34  30.8  23.0  1.44    38\n",
       "1        2 Harris, Tobias Harris, T. SF  50  50  34.4  19.3  1.23    35\n",
       "2         3 Simmons, Ben Simmons, B. PG  48  48  36.2  16.7  1.45    34\n",
       "3  4 Richardson, Josh Richardson, J. SG  38  38  31.5  15.0  1.19    32\n",
       "4           5 Horford, Al Horford, A. C  45  45  31.1  12.5   1.1    32"
      ]
     },
     "execution_count": 7,
     "metadata": {},
     "output_type": "execute_result"
    }
   ],
   "source": [
    "player_statistics.head()"
   ]
  },
  {
   "cell_type": "markdown",
   "metadata": {},
   "source": [
    "## Player stats has column name wrong so we need to rename it and also need to audit the data because names are given with comma seperated values "
   ]
  },
  {
   "cell_type": "code",
   "execution_count": 8,
   "metadata": {},
   "outputs": [
    {
     "data": {
      "text/html": [
       "<div>\n",
       "<style scoped>\n",
       "    .dataframe tbody tr th:only-of-type {\n",
       "        vertical-align: middle;\n",
       "    }\n",
       "\n",
       "    .dataframe tbody tr th {\n",
       "        vertical-align: top;\n",
       "    }\n",
       "\n",
       "    .dataframe thead th {\n",
       "        text-align: right;\n",
       "    }\n",
       "</style>\n",
       "<table border=\"1\" class=\"dataframe\">\n",
       "  <thead>\n",
       "    <tr style=\"text-align: right;\">\n",
       "      <th></th>\n",
       "      <th>player</th>\n",
       "      <th>GP</th>\n",
       "      <th>GS</th>\n",
       "      <th>MPG</th>\n",
       "      <th>PPG</th>\n",
       "      <th>PPS</th>\n",
       "      <th>HIGH</th>\n",
       "    </tr>\n",
       "  </thead>\n",
       "  <tbody>\n",
       "    <tr>\n",
       "      <th>0</th>\n",
       "      <td>1 Embiid, Joel Embiid, J. C</td>\n",
       "      <td>34</td>\n",
       "      <td>34</td>\n",
       "      <td>30.8</td>\n",
       "      <td>23.0</td>\n",
       "      <td>1.44</td>\n",
       "      <td>38</td>\n",
       "    </tr>\n",
       "    <tr>\n",
       "      <th>1</th>\n",
       "      <td>2 Harris, Tobias Harris, T. SF</td>\n",
       "      <td>50</td>\n",
       "      <td>50</td>\n",
       "      <td>34.4</td>\n",
       "      <td>19.3</td>\n",
       "      <td>1.23</td>\n",
       "      <td>35</td>\n",
       "    </tr>\n",
       "    <tr>\n",
       "      <th>2</th>\n",
       "      <td>3 Simmons, Ben Simmons, B. PG</td>\n",
       "      <td>48</td>\n",
       "      <td>48</td>\n",
       "      <td>36.2</td>\n",
       "      <td>16.7</td>\n",
       "      <td>1.45</td>\n",
       "      <td>34</td>\n",
       "    </tr>\n",
       "    <tr>\n",
       "      <th>3</th>\n",
       "      <td>4 Richardson, Josh Richardson, J. SG</td>\n",
       "      <td>38</td>\n",
       "      <td>38</td>\n",
       "      <td>31.5</td>\n",
       "      <td>15.0</td>\n",
       "      <td>1.19</td>\n",
       "      <td>32</td>\n",
       "    </tr>\n",
       "    <tr>\n",
       "      <th>4</th>\n",
       "      <td>5 Horford, Al Horford, A. C</td>\n",
       "      <td>45</td>\n",
       "      <td>45</td>\n",
       "      <td>31.1</td>\n",
       "      <td>12.5</td>\n",
       "      <td>1.1</td>\n",
       "      <td>32</td>\n",
       "    </tr>\n",
       "  </tbody>\n",
       "</table>\n",
       "</div>"
      ],
      "text/plain": [
       "                                 player  GP  GS   MPG   PPG   PPS  HIGH\n",
       "0           1 Embiid, Joel Embiid, J. C  34  34  30.8  23.0  1.44    38\n",
       "1        2 Harris, Tobias Harris, T. SF  50  50  34.4  19.3  1.23    35\n",
       "2         3 Simmons, Ben Simmons, B. PG  48  48  36.2  16.7  1.45    34\n",
       "3  4 Richardson, Josh Richardson, J. SG  38  38  31.5  15.0  1.19    32\n",
       "4           5 Horford, Al Horford, A. C  45  45  31.1  12.5   1.1    32"
      ]
     },
     "execution_count": 8,
     "metadata": {},
     "output_type": "execute_result"
    }
   ],
   "source": [
    "player_statistics = player_statistics.rename(columns = {\"SCORING\":\"player\"}) \n",
    "player_statistics.head()"
   ]
  },
  {
   "cell_type": "markdown",
   "metadata": {},
   "source": [
    "## Player stats table cleaning\n",
    "## removing multiple names in names coloums"
   ]
  },
  {
   "cell_type": "code",
   "execution_count": 9,
   "metadata": {},
   "outputs": [
    {
     "data": {
      "text/plain": [
       "{'player': 'Joel Embiid',\n",
       " 'GP': 34,\n",
       " 'GS': 34,\n",
       " 'MPG': '30.8',\n",
       " 'PPG': '23.0',\n",
       " 'PPS': '1.44',\n",
       " 'HIGH': 38}"
      ]
     },
     "execution_count": 9,
     "metadata": {},
     "output_type": "execute_result"
    }
   ],
   "source": [
    "p_stats_list = player_statistics.to_json(orient='records')\n",
    "p_stats_list = json.loads(p_stats_list)\n",
    "\n",
    "for player in p_stats_list:\n",
    "    player['player'] = player['player'].split(\",\")[1].strip()\n",
    "    \n",
    "p_stats_list[0]"
   ]
  },
  {
   "cell_type": "code",
   "execution_count": 10,
   "metadata": {},
   "outputs": [
    {
     "data": {
      "text/plain": [
       "{'abbrevation': 'ATL', 'teamName': 'Atlanta Hawks'}"
      ]
     },
     "execution_count": 10,
     "metadata": {},
     "output_type": "execute_result"
    }
   ],
   "source": [
    "players_list = players.to_json(orient='records')\n",
    "players_list = json.loads(players_list)\n",
    "# players_list[0]\n",
    "\n",
    "teams_list = teams.to_json(orient='records')\n",
    "teams_list = json.loads(teams_list)\n",
    "teams_list[0]"
   ]
  },
  {
   "cell_type": "markdown",
   "metadata": {},
   "source": [
    "## Cleaning team stats table for inserting in mongoDB"
   ]
  },
  {
   "cell_type": "code",
   "execution_count": 11,
   "metadata": {},
   "outputs": [
    {
     "data": {
      "text/html": [
       "<div>\n",
       "<style scoped>\n",
       "    .dataframe tbody tr th:only-of-type {\n",
       "        vertical-align: middle;\n",
       "    }\n",
       "\n",
       "    .dataframe tbody tr th {\n",
       "        vertical-align: top;\n",
       "    }\n",
       "\n",
       "    .dataframe thead th {\n",
       "        text-align: right;\n",
       "    }\n",
       "</style>\n",
       "<table border=\"1\" class=\"dataframe\">\n",
       "  <thead>\n",
       "    <tr style=\"text-align: right;\">\n",
       "      <th></th>\n",
       "      <th>SCORING</th>\n",
       "      <th>GP</th>\n",
       "      <th>PPG</th>\n",
       "      <th>PPS</th>\n",
       "      <th>PTS/POSS</th>\n",
       "    </tr>\n",
       "  </thead>\n",
       "  <tbody>\n",
       "    <tr>\n",
       "      <th>0</th>\n",
       "      <td>1 Milwaukee MIL</td>\n",
       "      <td>49</td>\n",
       "      <td>120.0</td>\n",
       "      <td>1.32</td>\n",
       "      <td>1.14</td>\n",
       "    </tr>\n",
       "    <tr>\n",
       "      <th>1</th>\n",
       "      <td>2 Houston HOU</td>\n",
       "      <td>49</td>\n",
       "      <td>118.7</td>\n",
       "      <td>1.30</td>\n",
       "      <td>1.14</td>\n",
       "    </tr>\n",
       "    <tr>\n",
       "      <th>2</th>\n",
       "      <td>3 Dallas DAL</td>\n",
       "      <td>49</td>\n",
       "      <td>116.4</td>\n",
       "      <td>1.29</td>\n",
       "      <td>1.17</td>\n",
       "    </tr>\n",
       "    <tr>\n",
       "      <th>3</th>\n",
       "      <td>4 Washington WAS</td>\n",
       "      <td>48</td>\n",
       "      <td>115.7</td>\n",
       "      <td>1.26</td>\n",
       "      <td>1.12</td>\n",
       "    </tr>\n",
       "    <tr>\n",
       "      <th>4</th>\n",
       "      <td>5 Los Angeles LAC</td>\n",
       "      <td>49</td>\n",
       "      <td>115.4</td>\n",
       "      <td>1.28</td>\n",
       "      <td>1.13</td>\n",
       "    </tr>\n",
       "  </tbody>\n",
       "</table>\n",
       "</div>"
      ],
      "text/plain": [
       "             SCORING  GP    PPG   PPS  PTS/POSS\n",
       "0    1 Milwaukee MIL  49  120.0  1.32      1.14\n",
       "1      2 Houston HOU  49  118.7  1.30      1.14\n",
       "2       3 Dallas DAL  49  116.4  1.29      1.17\n",
       "3   4 Washington WAS  48  115.7  1.26      1.12\n",
       "4  5 Los Angeles LAC  49  115.4  1.28      1.13"
      ]
     },
     "execution_count": 11,
     "metadata": {},
     "output_type": "execute_result"
    }
   ],
   "source": [
    "team_statistics.head()"
   ]
  },
  {
   "cell_type": "markdown",
   "metadata": {},
   "source": [
    "## team stats has column name wrong so we need to rename it and also need to audit the data because names are given with id team name and team abbrevation seperated by space"
   ]
  },
  {
   "cell_type": "code",
   "execution_count": 12,
   "metadata": {},
   "outputs": [
    {
     "data": {
      "text/html": [
       "<div>\n",
       "<style scoped>\n",
       "    .dataframe tbody tr th:only-of-type {\n",
       "        vertical-align: middle;\n",
       "    }\n",
       "\n",
       "    .dataframe tbody tr th {\n",
       "        vertical-align: top;\n",
       "    }\n",
       "\n",
       "    .dataframe thead th {\n",
       "        text-align: right;\n",
       "    }\n",
       "</style>\n",
       "<table border=\"1\" class=\"dataframe\">\n",
       "  <thead>\n",
       "    <tr style=\"text-align: right;\">\n",
       "      <th></th>\n",
       "      <th>team</th>\n",
       "      <th>GP</th>\n",
       "      <th>PPG</th>\n",
       "      <th>PPS</th>\n",
       "      <th>PTS/POSS</th>\n",
       "    </tr>\n",
       "  </thead>\n",
       "  <tbody>\n",
       "    <tr>\n",
       "      <th>0</th>\n",
       "      <td>1 Milwaukee MIL</td>\n",
       "      <td>49</td>\n",
       "      <td>120.0</td>\n",
       "      <td>1.32</td>\n",
       "      <td>1.14</td>\n",
       "    </tr>\n",
       "    <tr>\n",
       "      <th>1</th>\n",
       "      <td>2 Houston HOU</td>\n",
       "      <td>49</td>\n",
       "      <td>118.7</td>\n",
       "      <td>1.30</td>\n",
       "      <td>1.14</td>\n",
       "    </tr>\n",
       "    <tr>\n",
       "      <th>2</th>\n",
       "      <td>3 Dallas DAL</td>\n",
       "      <td>49</td>\n",
       "      <td>116.4</td>\n",
       "      <td>1.29</td>\n",
       "      <td>1.17</td>\n",
       "    </tr>\n",
       "    <tr>\n",
       "      <th>3</th>\n",
       "      <td>4 Washington WAS</td>\n",
       "      <td>48</td>\n",
       "      <td>115.7</td>\n",
       "      <td>1.26</td>\n",
       "      <td>1.12</td>\n",
       "    </tr>\n",
       "    <tr>\n",
       "      <th>4</th>\n",
       "      <td>5 Los Angeles LAC</td>\n",
       "      <td>49</td>\n",
       "      <td>115.4</td>\n",
       "      <td>1.28</td>\n",
       "      <td>1.13</td>\n",
       "    </tr>\n",
       "  </tbody>\n",
       "</table>\n",
       "</div>"
      ],
      "text/plain": [
       "                team  GP    PPG   PPS  PTS/POSS\n",
       "0    1 Milwaukee MIL  49  120.0  1.32      1.14\n",
       "1      2 Houston HOU  49  118.7  1.30      1.14\n",
       "2       3 Dallas DAL  49  116.4  1.29      1.17\n",
       "3   4 Washington WAS  48  115.7  1.26      1.12\n",
       "4  5 Los Angeles LAC  49  115.4  1.28      1.13"
      ]
     },
     "execution_count": 12,
     "metadata": {},
     "output_type": "execute_result"
    }
   ],
   "source": [
    "team_statistics = team_statistics.rename(columns = {\"SCORING\":\"team\"}) \n",
    "team_statistics.head()"
   ]
  },
  {
   "cell_type": "code",
   "execution_count": 13,
   "metadata": {},
   "outputs": [
    {
     "data": {
      "text/plain": [
       "{'team': 'Milwaukee', 'GP': 49, 'PPG': 120.0, 'PPS': 1.32, 'PTS/POSS': 1.14}"
      ]
     },
     "execution_count": 13,
     "metadata": {},
     "output_type": "execute_result"
    }
   ],
   "source": [
    "t_stats_list = team_statistics.to_json(orient='records')\n",
    "t_stats_list = json.loads(t_stats_list)\n",
    "\n",
    "for team in t_stats_list:\n",
    "    team['team'] = team['team'].split(\" \")[1].strip()\n",
    "    \n",
    "t_stats_list[0]"
   ]
  },
  {
   "cell_type": "code",
   "execution_count": 14,
   "metadata": {},
   "outputs": [],
   "source": [
    "from pymongo import MongoClient\n",
    "\n",
    "def get_db(db_name):\n",
    "    # For local use\n",
    "    from pymongo import MongoClient\n",
    "    client = MongoClient('localhost:27017')\n",
    "    db = client[db_name]\n",
    "    return db\n",
    "\n",
    "# Getting nba_database from mongoDB\n",
    "nba_Database= get_db(\"nba_Database\")\n",
    "\n",
    "# Getting collections from nba database\n",
    "players_collection = nba_Database.players\n",
    "teams_collection = nba_Database.teams\n",
    "player_stats_collection = nba_Database.player_stats\n",
    "team_stats_collection = nba_Database.team_stats"
   ]
  },
  {
   "cell_type": "code",
   "execution_count": 15,
   "metadata": {},
   "outputs": [],
   "source": [
    "for player in players_list:\n",
    "    players_collection.insert_one(player)"
   ]
  },
  {
   "cell_type": "code",
   "execution_count": 16,
   "metadata": {},
   "outputs": [],
   "source": [
    "for team in teams_list:\n",
    "    teams_collection.insert_one(team)"
   ]
  },
  {
   "cell_type": "code",
   "execution_count": 17,
   "metadata": {},
   "outputs": [],
   "source": [
    "for p_stat in p_stats_list:\n",
    "    player_stats_collection.insert_one(p_stat)"
   ]
  },
  {
   "cell_type": "code",
   "execution_count": 18,
   "metadata": {},
   "outputs": [],
   "source": [
    "for t_stat in t_stats_list:\n",
    "    team_stats_collection.insert_one(t_stat)"
   ]
  },
  {
   "cell_type": "markdown",
   "metadata": {},
   "source": [
    "## Now that we have inserted data into MongoDB Check MongoCompass to see if data is inserted "
   ]
  },
  {
   "cell_type": "markdown",
   "metadata": {},
   "source": [
    "# Getting Data from social media (twitter) for Players"
   ]
  },
  {
   "cell_type": "code",
   "execution_count": 22,
   "metadata": {},
   "outputs": [],
   "source": [
    "# importing libraries required for downloading data\n",
    "import tweepy\n",
    "import twitter\n",
    "\n",
    "# keys for accesing twitter api\n",
    "consumerKey = '*'\n",
    "consumerSecret = '*'\n",
    "ACCESS_TOKEN = '*'\n",
    "ACCESS_SECRET = '*'\n",
    "\n",
    "auth = tweepy.OAuthHandler(consumer_key=consumerKey, consumer_secret=consumerSecret)\n",
    "#Connect to the Twitter API using the authentication\n",
    "api = tweepy.API(auth)"
   ]
  },
  {
   "cell_type": "code",
   "execution_count": 20,
   "metadata": {},
   "outputs": [
    {
     "data": {
      "text/plain": [
       "'JoelEmbiid'"
      ]
     },
     "execution_count": 20,
     "metadata": {},
     "output_type": "execute_result"
    }
   ],
   "source": [
    "## trying to get player names to populate tweets abt them in database\n",
    "for player in p_stats_list:\n",
    "    player['player'] = ''.join(e for e in player['player'] if e.isalnum())\n",
    "    \n",
    "# checking if our player is made useful to search as tag\n",
    "p_stats_list[0]['player']"
   ]
  },
  {
   "cell_type": "code",
   "execution_count": 21,
   "metadata": {},
   "outputs": [
    {
     "ename": "TweepError",
     "evalue": "Twitter error response: status code = 429",
     "output_type": "error",
     "traceback": [
      "\u001b[1;31m---------------------------------------------------------------------------\u001b[0m",
      "\u001b[1;31mTweepError\u001b[0m                                Traceback (most recent call last)",
      "\u001b[1;32m<ipython-input-21-3b8c3aeeb2e8>\u001b[0m in \u001b[0;36m<module>\u001b[1;34m\u001b[0m\n\u001b[0;32m      5\u001b[0m     \u001b[1;32mfor\u001b[0m \u001b[0mplayer\u001b[0m \u001b[1;32min\u001b[0m \u001b[0mp_stats_list\u001b[0m\u001b[1;33m:\u001b[0m\u001b[1;33m\u001b[0m\u001b[1;33m\u001b[0m\u001b[0m\n\u001b[0;32m      6\u001b[0m         \u001b[0msearch_q\u001b[0m \u001b[1;33m=\u001b[0m \u001b[1;34m'%#'\u001b[0m\u001b[1;33m+\u001b[0m \u001b[0mplayer\u001b[0m\u001b[1;33m[\u001b[0m\u001b[1;34m'player'\u001b[0m\u001b[1;33m]\u001b[0m\u001b[1;33m\u001b[0m\u001b[1;33m\u001b[0m\u001b[0m\n\u001b[1;32m----> 7\u001b[1;33m         \u001b[1;32mfor\u001b[0m \u001b[0mtweet\u001b[0m \u001b[1;32min\u001b[0m \u001b[0mtweepy\u001b[0m\u001b[1;33m.\u001b[0m\u001b[0mCursor\u001b[0m\u001b[1;33m(\u001b[0m\u001b[0mapi\u001b[0m\u001b[1;33m.\u001b[0m\u001b[0msearch\u001b[0m\u001b[1;33m,\u001b[0m \u001b[0mq\u001b[0m\u001b[1;33m=\u001b[0m\u001b[0msearch_q\u001b[0m\u001b[1;33m,\u001b[0m \u001b[0msince\u001b[0m\u001b[1;33m=\u001b[0m\u001b[1;34m'2019-04-21'\u001b[0m\u001b[1;33m,\u001b[0m\u001b[0muntil\u001b[0m\u001b[1;33m=\u001b[0m\u001b[1;34m'2020-04-08'\u001b[0m\u001b[1;33m)\u001b[0m\u001b[1;33m.\u001b[0m\u001b[0mitems\u001b[0m\u001b[1;33m(\u001b[0m\u001b[1;36m5\u001b[0m\u001b[1;33m)\u001b[0m\u001b[1;33m:\u001b[0m\u001b[1;33m\u001b[0m\u001b[1;33m\u001b[0m\u001b[0m\n\u001b[0m\u001b[0;32m      8\u001b[0m             \u001b[0mresults\u001b[0m\u001b[1;33m.\u001b[0m\u001b[0mappend\u001b[0m\u001b[1;33m(\u001b[0m\u001b[0mtweet\u001b[0m\u001b[1;33m)\u001b[0m\u001b[1;33m\u001b[0m\u001b[1;33m\u001b[0m\u001b[0m\n\u001b[0;32m      9\u001b[0m \u001b[1;32mexcept\u001b[0m \u001b[0mtweepy\u001b[0m\u001b[1;33m.\u001b[0m\u001b[0merror\u001b[0m\u001b[1;33m.\u001b[0m\u001b[0mTweepError\u001b[0m\u001b[1;33m:\u001b[0m\u001b[1;33m\u001b[0m\u001b[1;33m\u001b[0m\u001b[0m\n",
      "\u001b[1;32m~\\AppData\\Local\\Continuum\\anaconda3\\lib\\site-packages\\tweepy\\cursor.py\u001b[0m in \u001b[0;36m__next__\u001b[1;34m(self)\u001b[0m\n\u001b[0;32m     45\u001b[0m \u001b[1;33m\u001b[0m\u001b[0m\n\u001b[0;32m     46\u001b[0m     \u001b[1;32mdef\u001b[0m \u001b[0m__next__\u001b[0m\u001b[1;33m(\u001b[0m\u001b[0mself\u001b[0m\u001b[1;33m)\u001b[0m\u001b[1;33m:\u001b[0m\u001b[1;33m\u001b[0m\u001b[1;33m\u001b[0m\u001b[0m\n\u001b[1;32m---> 47\u001b[1;33m         \u001b[1;32mreturn\u001b[0m \u001b[0mself\u001b[0m\u001b[1;33m.\u001b[0m\u001b[0mnext\u001b[0m\u001b[1;33m(\u001b[0m\u001b[1;33m)\u001b[0m\u001b[1;33m\u001b[0m\u001b[1;33m\u001b[0m\u001b[0m\n\u001b[0m\u001b[0;32m     48\u001b[0m \u001b[1;33m\u001b[0m\u001b[0m\n\u001b[0;32m     49\u001b[0m     \u001b[1;32mdef\u001b[0m \u001b[0mnext\u001b[0m\u001b[1;33m(\u001b[0m\u001b[0mself\u001b[0m\u001b[1;33m)\u001b[0m\u001b[1;33m:\u001b[0m\u001b[1;33m\u001b[0m\u001b[1;33m\u001b[0m\u001b[0m\n",
      "\u001b[1;32m~\\AppData\\Local\\Continuum\\anaconda3\\lib\\site-packages\\tweepy\\cursor.py\u001b[0m in \u001b[0;36mnext\u001b[1;34m(self)\u001b[0m\n\u001b[0;32m    193\u001b[0m         \u001b[1;32mif\u001b[0m \u001b[0mself\u001b[0m\u001b[1;33m.\u001b[0m\u001b[0mcurrent_page\u001b[0m \u001b[1;32mis\u001b[0m \u001b[1;32mNone\u001b[0m \u001b[1;32mor\u001b[0m \u001b[0mself\u001b[0m\u001b[1;33m.\u001b[0m\u001b[0mpage_index\u001b[0m \u001b[1;33m==\u001b[0m \u001b[0mlen\u001b[0m\u001b[1;33m(\u001b[0m\u001b[0mself\u001b[0m\u001b[1;33m.\u001b[0m\u001b[0mcurrent_page\u001b[0m\u001b[1;33m)\u001b[0m \u001b[1;33m-\u001b[0m \u001b[1;36m1\u001b[0m\u001b[1;33m:\u001b[0m\u001b[1;33m\u001b[0m\u001b[1;33m\u001b[0m\u001b[0m\n\u001b[0;32m    194\u001b[0m             \u001b[1;31m# Reached end of current page, get the next page...\u001b[0m\u001b[1;33m\u001b[0m\u001b[1;33m\u001b[0m\u001b[1;33m\u001b[0m\u001b[0m\n\u001b[1;32m--> 195\u001b[1;33m             \u001b[0mself\u001b[0m\u001b[1;33m.\u001b[0m\u001b[0mcurrent_page\u001b[0m \u001b[1;33m=\u001b[0m \u001b[0mself\u001b[0m\u001b[1;33m.\u001b[0m\u001b[0mpage_iterator\u001b[0m\u001b[1;33m.\u001b[0m\u001b[0mnext\u001b[0m\u001b[1;33m(\u001b[0m\u001b[1;33m)\u001b[0m\u001b[1;33m\u001b[0m\u001b[1;33m\u001b[0m\u001b[0m\n\u001b[0m\u001b[0;32m    196\u001b[0m             \u001b[0mself\u001b[0m\u001b[1;33m.\u001b[0m\u001b[0mpage_index\u001b[0m \u001b[1;33m=\u001b[0m \u001b[1;33m-\u001b[0m\u001b[1;36m1\u001b[0m\u001b[1;33m\u001b[0m\u001b[1;33m\u001b[0m\u001b[0m\n\u001b[0;32m    197\u001b[0m         \u001b[0mself\u001b[0m\u001b[1;33m.\u001b[0m\u001b[0mpage_index\u001b[0m \u001b[1;33m+=\u001b[0m \u001b[1;36m1\u001b[0m\u001b[1;33m\u001b[0m\u001b[1;33m\u001b[0m\u001b[0m\n",
      "\u001b[1;32m~\\AppData\\Local\\Continuum\\anaconda3\\lib\\site-packages\\tweepy\\cursor.py\u001b[0m in \u001b[0;36mnext\u001b[1;34m(self)\u001b[0m\n\u001b[0;32m    104\u001b[0m \u001b[1;33m\u001b[0m\u001b[0m\n\u001b[0;32m    105\u001b[0m         \u001b[1;32mif\u001b[0m \u001b[0mself\u001b[0m\u001b[1;33m.\u001b[0m\u001b[0mindex\u001b[0m \u001b[1;33m>=\u001b[0m \u001b[0mlen\u001b[0m\u001b[1;33m(\u001b[0m\u001b[0mself\u001b[0m\u001b[1;33m.\u001b[0m\u001b[0mresults\u001b[0m\u001b[1;33m)\u001b[0m \u001b[1;33m-\u001b[0m \u001b[1;36m1\u001b[0m\u001b[1;33m:\u001b[0m\u001b[1;33m\u001b[0m\u001b[1;33m\u001b[0m\u001b[0m\n\u001b[1;32m--> 106\u001b[1;33m             \u001b[0mdata\u001b[0m \u001b[1;33m=\u001b[0m \u001b[0mself\u001b[0m\u001b[1;33m.\u001b[0m\u001b[0mmethod\u001b[0m\u001b[1;33m(\u001b[0m\u001b[0mmax_id\u001b[0m\u001b[1;33m=\u001b[0m\u001b[0mself\u001b[0m\u001b[1;33m.\u001b[0m\u001b[0mmax_id\u001b[0m\u001b[1;33m,\u001b[0m \u001b[0mparser\u001b[0m\u001b[1;33m=\u001b[0m\u001b[0mRawParser\u001b[0m\u001b[1;33m(\u001b[0m\u001b[1;33m)\u001b[0m\u001b[1;33m,\u001b[0m \u001b[1;33m*\u001b[0m\u001b[0mself\u001b[0m\u001b[1;33m.\u001b[0m\u001b[0margs\u001b[0m\u001b[1;33m,\u001b[0m \u001b[1;33m**\u001b[0m\u001b[0mself\u001b[0m\u001b[1;33m.\u001b[0m\u001b[0mkargs\u001b[0m\u001b[1;33m)\u001b[0m\u001b[1;33m\u001b[0m\u001b[1;33m\u001b[0m\u001b[0m\n\u001b[0m\u001b[0;32m    107\u001b[0m \u001b[1;33m\u001b[0m\u001b[0m\n\u001b[0;32m    108\u001b[0m             \u001b[1;32mif\u001b[0m \u001b[0mhasattr\u001b[0m\u001b[1;33m(\u001b[0m\u001b[0mself\u001b[0m\u001b[1;33m.\u001b[0m\u001b[0mmethod\u001b[0m\u001b[1;33m,\u001b[0m \u001b[1;34m'__self__'\u001b[0m\u001b[1;33m)\u001b[0m\u001b[1;33m:\u001b[0m\u001b[1;33m\u001b[0m\u001b[1;33m\u001b[0m\u001b[0m\n",
      "\u001b[1;32m~\\AppData\\Local\\Continuum\\anaconda3\\lib\\site-packages\\tweepy\\binder.py\u001b[0m in \u001b[0;36m_call\u001b[1;34m(*args, **kwargs)\u001b[0m\n\u001b[0;32m    248\u001b[0m                 \u001b[1;32mreturn\u001b[0m \u001b[0mmethod\u001b[0m\u001b[1;33m\u001b[0m\u001b[1;33m\u001b[0m\u001b[0m\n\u001b[0;32m    249\u001b[0m             \u001b[1;32melse\u001b[0m\u001b[1;33m:\u001b[0m\u001b[1;33m\u001b[0m\u001b[1;33m\u001b[0m\u001b[0m\n\u001b[1;32m--> 250\u001b[1;33m                 \u001b[1;32mreturn\u001b[0m \u001b[0mmethod\u001b[0m\u001b[1;33m.\u001b[0m\u001b[0mexecute\u001b[0m\u001b[1;33m(\u001b[0m\u001b[1;33m)\u001b[0m\u001b[1;33m\u001b[0m\u001b[1;33m\u001b[0m\u001b[0m\n\u001b[0m\u001b[0;32m    251\u001b[0m         \u001b[1;32mfinally\u001b[0m\u001b[1;33m:\u001b[0m\u001b[1;33m\u001b[0m\u001b[1;33m\u001b[0m\u001b[0m\n\u001b[0;32m    252\u001b[0m             \u001b[0mmethod\u001b[0m\u001b[1;33m.\u001b[0m\u001b[0msession\u001b[0m\u001b[1;33m.\u001b[0m\u001b[0mclose\u001b[0m\u001b[1;33m(\u001b[0m\u001b[1;33m)\u001b[0m\u001b[1;33m\u001b[0m\u001b[1;33m\u001b[0m\u001b[0m\n",
      "\u001b[1;32m~\\AppData\\Local\\Continuum\\anaconda3\\lib\\site-packages\\tweepy\\binder.py\u001b[0m in \u001b[0;36mexecute\u001b[1;34m(self)\u001b[0m\n\u001b[0;32m    231\u001b[0m                     \u001b[1;32mraise\u001b[0m \u001b[0mRateLimitError\u001b[0m\u001b[1;33m(\u001b[0m\u001b[0merror_msg\u001b[0m\u001b[1;33m,\u001b[0m \u001b[0mresp\u001b[0m\u001b[1;33m)\u001b[0m\u001b[1;33m\u001b[0m\u001b[1;33m\u001b[0m\u001b[0m\n\u001b[0;32m    232\u001b[0m                 \u001b[1;32melse\u001b[0m\u001b[1;33m:\u001b[0m\u001b[1;33m\u001b[0m\u001b[1;33m\u001b[0m\u001b[0m\n\u001b[1;32m--> 233\u001b[1;33m                     \u001b[1;32mraise\u001b[0m \u001b[0mTweepError\u001b[0m\u001b[1;33m(\u001b[0m\u001b[0merror_msg\u001b[0m\u001b[1;33m,\u001b[0m \u001b[0mresp\u001b[0m\u001b[1;33m,\u001b[0m \u001b[0mapi_code\u001b[0m\u001b[1;33m=\u001b[0m\u001b[0mapi_error_code\u001b[0m\u001b[1;33m)\u001b[0m\u001b[1;33m\u001b[0m\u001b[1;33m\u001b[0m\u001b[0m\n\u001b[0m\u001b[0;32m    234\u001b[0m \u001b[1;33m\u001b[0m\u001b[0m\n\u001b[0;32m    235\u001b[0m             \u001b[1;31m# Parse the response payload\u001b[0m\u001b[1;33m\u001b[0m\u001b[1;33m\u001b[0m\u001b[1;33m\u001b[0m\u001b[0m\n",
      "\u001b[1;31mTweepError\u001b[0m: Twitter error response: status code = 429"
     ]
    }
   ],
   "source": [
    "results = []\n",
    "\n",
    "try:\n",
    "    #Get the first 5000 items based on the search query\n",
    "    for player in p_stats_list:\n",
    "        search_q = '%#'+ player['player']\n",
    "        for tweet in tweepy.Cursor(api.search, q=search_q, since='2019-04-21',until='2020-04-08').items(5):\n",
    "            results.append(tweet)\n",
    "except tweepy.error.TweepError:\n",
    "    raise\n",
    "\n",
    "# Verify the number of items returned print \n",
    "len(results)"
   ]
  },
  {
   "cell_type": "code",
   "execution_count": 38,
   "metadata": {},
   "outputs": [],
   "source": [
    "def toDataFrame(tweets):\n",
    "\n",
    "    DataSet = pd.DataFrame()\n",
    "    DataSet['tweetID'] = [tweet.id for tweet in tweets]\n",
    "    DataSet['tweetText'] = [tweet.text.encode('utf-8') for tweet in tweets]\n",
    "    DataSet['tweetRetweetCt'] = [tweet.retweet_count for tweet in tweets]\n",
    "    DataSet['tweetFavoriteCt'] = [tweet.favorite_count for tweet in tweets]\n",
    "    DataSet['tweetSource'] = [tweet.source for tweet in tweets]\n",
    "    DataSet['tweetCreated'] = [tweet.created_at for tweet in tweets]\n",
    "    DataSet['hashTags'] = [tweet.entities.get('hashtags') for tweet in tweets]\n",
    "    \n",
    "    return DataSet\n",
    "\n",
    "#Pass the tweets list to the above function to create a DataFrame\n",
    "socialMediaData = toDataFrame(results)"
   ]
  },
  {
   "cell_type": "code",
   "execution_count": 39,
   "metadata": {},
   "outputs": [
    {
     "data": {
      "text/html": [
       "<div>\n",
       "<style scoped>\n",
       "    .dataframe tbody tr th:only-of-type {\n",
       "        vertical-align: middle;\n",
       "    }\n",
       "\n",
       "    .dataframe tbody tr th {\n",
       "        vertical-align: top;\n",
       "    }\n",
       "\n",
       "    .dataframe thead th {\n",
       "        text-align: right;\n",
       "    }\n",
       "</style>\n",
       "<table border=\"1\" class=\"dataframe\">\n",
       "  <thead>\n",
       "    <tr style=\"text-align: right;\">\n",
       "      <th></th>\n",
       "      <th>tweetID</th>\n",
       "      <th>tweetText</th>\n",
       "      <th>tweetRetweetCt</th>\n",
       "      <th>tweetFavoriteCt</th>\n",
       "      <th>tweetSource</th>\n",
       "      <th>tweetCreated</th>\n",
       "    </tr>\n",
       "  </thead>\n",
       "  <tbody>\n",
       "    <tr>\n",
       "      <th>0</th>\n",
       "      <td>1246204330463682560</td>\n",
       "      <td>b'RT @JeffSkversky: \\xf0\\x9f\\x91\\x8f Sixers st...</td>\n",
       "      <td>9</td>\n",
       "      <td>0</td>\n",
       "      <td>Twitter for Android</td>\n",
       "      <td>2020-04-03 22:34:00</td>\n",
       "    </tr>\n",
       "    <tr>\n",
       "      <th>1</th>\n",
       "      <td>1246189799326842888</td>\n",
       "      <td>b'RT @JeffSkversky: \\xf0\\x9f\\x91\\x8f Sixers st...</td>\n",
       "      <td>9</td>\n",
       "      <td>0</td>\n",
       "      <td>Twitter for iPhone</td>\n",
       "      <td>2020-04-03 21:36:15</td>\n",
       "    </tr>\n",
       "    <tr>\n",
       "      <th>2</th>\n",
       "      <td>1246169961527005185</td>\n",
       "      <td>b'@JoelEmbiid is quickly becoming my favorite ...</td>\n",
       "      <td>0</td>\n",
       "      <td>0</td>\n",
       "      <td>Twitter Web App</td>\n",
       "      <td>2020-04-03 20:17:26</td>\n",
       "    </tr>\n",
       "    <tr>\n",
       "      <th>3</th>\n",
       "      <td>1246162090211098625</td>\n",
       "      <td>b'RT @JeffSkversky: \\xf0\\x9f\\x91\\x8f Sixers st...</td>\n",
       "      <td>9</td>\n",
       "      <td>0</td>\n",
       "      <td>Twitter for iPhone</td>\n",
       "      <td>2020-04-03 19:46:09</td>\n",
       "    </tr>\n",
       "    <tr>\n",
       "      <th>4</th>\n",
       "      <td>1246161802494447626</td>\n",
       "      <td>b'RT @JeffSkversky: \\xf0\\x9f\\x91\\x8f Sixers st...</td>\n",
       "      <td>9</td>\n",
       "      <td>0</td>\n",
       "      <td>Twitter for Android</td>\n",
       "      <td>2020-04-03 19:45:00</td>\n",
       "    </tr>\n",
       "  </tbody>\n",
       "</table>\n",
       "</div>"
      ],
      "text/plain": [
       "               tweetID                                          tweetText  \\\n",
       "0  1246204330463682560  b'RT @JeffSkversky: \\xf0\\x9f\\x91\\x8f Sixers st...   \n",
       "1  1246189799326842888  b'RT @JeffSkversky: \\xf0\\x9f\\x91\\x8f Sixers st...   \n",
       "2  1246169961527005185  b'@JoelEmbiid is quickly becoming my favorite ...   \n",
       "3  1246162090211098625  b'RT @JeffSkversky: \\xf0\\x9f\\x91\\x8f Sixers st...   \n",
       "4  1246161802494447626  b'RT @JeffSkversky: \\xf0\\x9f\\x91\\x8f Sixers st...   \n",
       "\n",
       "   tweetRetweetCt  tweetFavoriteCt          tweetSource        tweetCreated  \n",
       "0               9                0  Twitter for Android 2020-04-03 22:34:00  \n",
       "1               9                0   Twitter for iPhone 2020-04-03 21:36:15  \n",
       "2               0                0      Twitter Web App 2020-04-03 20:17:26  \n",
       "3               9                0   Twitter for iPhone 2020-04-03 19:46:09  \n",
       "4               9                0  Twitter for Android 2020-04-03 19:45:00  "
      ]
     },
     "execution_count": 39,
     "metadata": {},
     "output_type": "execute_result"
    }
   ],
   "source": [
    "socialMediaData.head()"
   ]
  },
  {
   "cell_type": "code",
   "execution_count": 40,
   "metadata": {},
   "outputs": [],
   "source": [
    "def turndf_to_json(df):\n",
    "    json_list = df.to_json(orient='records')\n",
    "    json_list = json.loads(json_list)\n",
    "    return json_list\n",
    "\n",
    "socialMediaData = turndf_to_json(socialMediaData)"
   ]
  },
  {
   "cell_type": "code",
   "execution_count": 41,
   "metadata": {},
   "outputs": [
    {
     "data": {
      "text/plain": [
       "{'tweetID': 1246204330463682560,\n",
       " 'tweetText': 'RT @JeffSkversky: 👏 Sixers star Joel Embiid, 76ers Managing Partner Josh Harris, and Co-Managing Partner David Blitzer Join Forces to Provi…',\n",
       " 'tweetRetweetCt': 9,\n",
       " 'tweetFavoriteCt': 0,\n",
       " 'tweetSource': 'Twitter for Android',\n",
       " 'tweetCreated': 1585953240000}"
      ]
     },
     "execution_count": 41,
     "metadata": {},
     "output_type": "execute_result"
    }
   ],
   "source": [
    "# testing if data is converted to json\n",
    "socialMediaData[0]"
   ]
  },
  {
   "cell_type": "markdown",
   "metadata": {},
   "source": [
    "## Entering socialMedia data into mongodb database"
   ]
  },
  {
   "cell_type": "code",
   "execution_count": 42,
   "metadata": {},
   "outputs": [],
   "source": [
    "socialMediaCollection = nba_Database.tweetsData\n",
    "\n",
    "for data in socialMediaData:\n",
    "    socialMediaCollection.insert_one(data)"
   ]
  },
  {
   "cell_type": "markdown",
   "metadata": {},
   "source": [
    "## Check MongoClient to verify if data is populated"
   ]
  },
  {
   "cell_type": "markdown",
   "metadata": {},
   "source": [
    "# Search for tweets with tag JeffSkversky\n",
    "\n",
    "Query:\n",
    "First move to nba_Database\n",
    "* use nba_Database\n",
    "* db.tweetsData.find({ tweetText: /@JeffSkversky/ }).pretty()"
   ]
  },
  {
   "cell_type": "markdown",
   "metadata": {},
   "source": [
    "<img src=\"./images/query1.png\">"
   ]
  },
  {
   "cell_type": "markdown",
   "metadata": {},
   "source": [
    "# Popular and Trending Hashtags\n",
    "\n",
    "Query:\n",
    "First move to nba_Database\n",
    "* use nba_Database\n",
    "* db.tweetsData.find().sort({ tweetRetweetCt: -1 }).limit(1).pretty()"
   ]
  },
  {
   "cell_type": "markdown",
   "metadata": {},
   "source": [
    "<img src=\"./images/query2.png\">"
   ]
  },
  {
   "cell_type": "markdown",
   "metadata": {},
   "source": [
    "Query:\n",
    "First move to nba_Database\n",
    "* use nba_Database\n",
    "* db.tweetsData.find().sort({ tweetFavoritesCt: -1 }).limit(1).pretty()"
   ]
  },
  {
   "cell_type": "markdown",
   "metadata": {},
   "source": [
    "<img src=\"./images/query3.png\">"
   ]
  },
  {
   "cell_type": "markdown",
   "metadata": {},
   "source": [
    "Query:\n",
    "In order to find which users are similar to other users we jus select the tweets related to \n",
    "particular hashtag so that we can get to know who also have same hashtag\n",
    "First move to nba_Database\n",
    "* use nba_Database\n",
    "* db.tweetsData.find({ tweetText: /#nba/ }).pretty()"
   ]
  },
  {
   "cell_type": "markdown",
   "metadata": {},
   "source": [
    "<img src=\"./images/query4.png\">"
   ]
  },
  {
   "cell_type": "code",
   "execution_count": null,
   "metadata": {},
   "outputs": [],
   "source": [
    "# Create a dictionary\n",
    "d = dict()\n",
    "\n",
    "# Saving HashTag name and its count in all the tweets and saving as keys and values in a dictionary\n",
    "for tweet in range(0, len(results)):\n",
    "    hashTag = results[tweet].entities.get('hashtags')\n",
    "    for i in range(0, len(hashTag)):\n",
    "        HashTag = hashTag[i]['text']\n",
    "        if HashTag in d:\n",
    "            d[HashTag] = d[HashTag] + 1\n",
    "        else:\n",
    "            d[HashTag] = 1\n",
    "\n",
    "# Dictionary converted to a Dataframe \n",
    "HashTags = pd.DataFrame(list(d.items()),columns = ['HashTag','Count'])\n",
    "HashTags"
   ]
  },
  {
   "cell_type": "code",
   "execution_count": null,
   "metadata": {},
   "outputs": [],
   "source": [
    "#Sorting the dataframe as per the count \n",
    "HashTags = HashTags.sort_values(by='Count', ascending=False)\n",
    "HashTags"
   ]
  },
  {
   "cell_type": "markdown",
   "metadata": {},
   "source": [
    "### AUDIT VALIDITY/ACCURACY\n",
    "We say data is accurate only when it is neat and with no junk values. By using various commands like drop, del and lambda functions, all the unwanted junk values were deleted from the above rows and columns which gives valid and accuarate data report."
   ]
  },
  {
   "cell_type": "markdown",
   "metadata": {},
   "source": [
    "### AUDIT COMPLETNESS\n",
    "In real world, when a list of teams stats, player stats, player information, team information from a particular Player or Team or season is requested, a list of it will be displayed or presented, similarly when we compare it with above data too, we get proper real time data showing correct information for all the Matches played by teams/players.  This can be extended for multiple seasons like which team is popular in that season."
   ]
  },
  {
   "cell_type": "markdown",
   "metadata": {},
   "source": [
    "### AUDIT CONSISTENCY/UNIFORMITY\n",
    "The datasets which have been used in this assignment show a uniform relationship between each of the dataset since they are linked to each other by a common attribute. "
   ]
  },
  {
   "cell_type": "markdown",
   "metadata": {},
   "source": [
    "### REPORT                                                                       \n",
    "\n",
    "Files used from previous assignments: \n",
    "1. PlayersTable.csv\n",
    "2. Teams.csv\n",
    "3. PlayersStats.csv\n",
    "4. TeamStats.csv\n",
    "\n",
    "### Description for converting sql to nosql database\n",
    "Functions : \n",
    "1. turndf_to_json \n",
    "to turn data from dataframe which is taken from csv file into json\n",
    "since mongodb accepts data as json format we need to convert all the data into json format\n",
    "2. get_db\n",
    "to connect mongoDB database\n",
    "\n",
    "\n",
    "Data is reformatted to fit into a conceptual model. \n",
    "Data gathered from different sources Web API, Web scraping, Raw file (from kaggle datasets) and are used to fit into a conceptual model.                                              \n",
    "\n",
    "Code used:                                                                                                 \n",
    "Step 1. Extraction of Data                                                                                    \n",
    "3 main methods were used for the extraction of data:   \n",
    "\n",
    "1. Using the API:                                                                                             \n",
    "Here the API key for the site was used and libraries like:\n",
    "request to access the website using the URL (https://api.sportsdata.io) and API key ('')                      \n",
    "json to convert the file into json format                                                                      \n",
    "pandas to create data frames from the raw data  \n",
    "\n",
    "2. Using the website to scrap the data                                                                       \n",
    "Here the data was extracted using the sites data directly using the libraries like:                               \n",
    "request to access the website using the URL (https://www.foxsports.com)                       \n",
    "BeautifulSoup to scrape the contents of the website                                                          \n",
    "find() and find_all() methods were used to find the desired content in the system \n",
    "used dynamic links to scrape all the data contained in 28 pages of the website\n",
    "\n",
    "3. By loading the csv file:                                                                                  \n",
    "Here the data was extracted using a csv file on the system using the libraries like:                            \n",
    "Pandas to a read the csv file and load it into data frames                                                    \n",
    "read_csv method is used to read .csv file    \n",
    "\n",
    "Step 2. Cleaning and Auditing Data                                                                             \n",
    "To gain knowledge about the dataset we used various methods like                                                  \n",
    "describe, isnull, any, shape, columns, is_unique, info, iloc, loc, os"
   ]
  },
  {
   "cell_type": "markdown",
   "metadata": {},
   "source": [
    "### CONCLUSION                                                                                                                                                                   \n",
    "Primary focus of this assignment is to learn how to get the transfer data from sql to mongoDB. \n",
    "cleaning of data, checking null values present in the data, data munging and to reformat the data to fit a conceptual database schema."
   ]
  },
  {
   "cell_type": "markdown",
   "metadata": {},
   "source": [
    "### CONTRIBUTION\n",
    "###### Your contribution towards project. How much code did you write and how much you took from other site or some other source.                                                                            \n",
    "I contributed By Own: 40%                                                                                      \n",
    "Teammate contribution: 40%                                                                                        \n",
    "Provided by the prof github projects, w3schools, geeksforgeeks and stackoverflow : 20% "
   ]
  },
  {
   "cell_type": "markdown",
   "metadata": {},
   "source": [
    "### CITATIONS\n",
    "##### Sources from where you have gained knowledge or used codes, data. It may include Web links, github links, code taken from somewhere etc.\n",
    "1. https://www.infoworld.com/article/2608083/do-twitter-analysis-the-easy-way-with-mongodb.html?page=3\n",
    "2. https://www.w3schools.com/python/python_mongodb_find.asp\n",
    "3. https://docs.scipy.org/doc/numpy/user/basics.indexing.html"
   ]
  },
  {
   "cell_type": "markdown",
   "metadata": {},
   "source": [
    "### LICENSE\n",
    "Copyright 2020 MIT\n",
    "\n",
    "Permission is hereby granted, free of charge, to any person obtaining a copy of this software and associated \n",
    "documentation files (the \"Software\"), to deal in the Software without restriction, including without limitation the \n",
    "rights to use, copy, modify, merge, publish, distribute, sublicense, and/or sell copies of the Software, and to permit\n",
    "persons to whom the Software is furnished to do so, subject to the following conditions:\n",
    "\n",
    "The above copyright notice and this permission notice shall be included in all copies or substantial portions of the \n",
    "Software.\n",
    "\n",
    "THE SOFTWARE IS PROVIDED \"AS IS\", WITHOUT WARRANTY OF ANY KIND, EXPRESS OR IMPLIED, INCLUDING BUT NOT LIMITED TO THE \n",
    "WARRANTIES OF MERCHANTABILITY, FITNESS FOR A PARTICULAR PURPOSE AND NONINFRINGEMENT. IN NO EVENT SHALL THE AUTHORS OR \n",
    "COPYRIGHT HOLDERS BE LIABLE FOR ANY CLAIM, DAMAGES OR OTHER LIABILITY, WHETHER IN AN ACTION OF CONTRACT, TORT OR \n",
    "OTHERWISE, ARISING FROM, OUT OF OR IN CONNECTION WITH THE SOFTWARE OR THE USE OR OTHER DEALINGS IN THE SOFTWARE."
   ]
  },
  {
   "cell_type": "code",
   "execution_count": null,
   "metadata": {},
   "outputs": [],
   "source": []
  }
 ],
 "metadata": {
  "kernelspec": {
   "display_name": "Python 3",
   "language": "python",
   "name": "python3"
  },
  "language_info": {
   "codemirror_mode": {
    "name": "ipython",
    "version": 3
   },
   "file_extension": ".py",
   "mimetype": "text/x-python",
   "name": "python",
   "nbconvert_exporter": "python",
   "pygments_lexer": "ipython3",
   "version": "3.7.3"
  }
 },
 "nbformat": 4,
 "nbformat_minor": 2
}
